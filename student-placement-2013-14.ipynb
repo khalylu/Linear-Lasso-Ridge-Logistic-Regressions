{
 "cells": [
  {
   "cell_type": "code",
   "execution_count": 1,
   "id": "fcac5a23",
   "metadata": {
    "_cell_guid": "b1076dfc-b9ad-4769-8c92-a6c4dae69d19",
    "_uuid": "8f2839f25d086af736a60e9eeb907d3b93b6e0e5",
    "execution": {
     "iopub.execute_input": "2021-09-16T06:40:45.705422Z",
     "iopub.status.busy": "2021-09-16T06:40:45.704793Z",
     "iopub.status.idle": "2021-09-16T06:40:46.718170Z",
     "shell.execute_reply": "2021-09-16T06:40:46.717568Z",
     "shell.execute_reply.started": "2021-09-16T06:37:01.329423Z"
    },
    "papermill": {
     "duration": 1.043942,
     "end_time": "2021-09-16T06:40:46.718327",
     "exception": false,
     "start_time": "2021-09-16T06:40:45.674385",
     "status": "completed"
    },
    "tags": []
   },
   "outputs": [
    {
     "name": "stdout",
     "output_type": "stream",
     "text": [
      "/kaggle/input/engineering-placements-prediction/collegePlace.csv\n"
     ]
    }
   ],
   "source": [
    "# This Python 3 environment comes with many helpful analytics libraries installed\n",
    "# It is defined by the kaggle/python Docker image: https://github.com/kaggle/docker-python\n",
    "# For example, here's several helpful packages to load\n",
    "\n",
    "import numpy as np # linear algebra\n",
    "import pandas as pd # data processing, CSV file I/O (e.g. pd.read_csv)\n",
    "import seaborn as sns; sns.set()\n",
    "import matplotlib.pyplot as plt\n",
    "import squarify\n",
    "%matplotlib inline\n",
    "import warnings\n",
    "warnings.filterwarnings('ignore')\n",
    "# Input data files are available in the read-only \"../input/\" directory\n",
    "# For example, running this (by clicking run or pressing Shift+Enter) will list all files under the input directory\n",
    "\n",
    "import os\n",
    "for dirname, _, filenames in os.walk('/kaggle/input'):\n",
    "    for filename in filenames:\n",
    "        print(os.path.join(dirname, filename))\n",
    "\n",
    "# You can write up to 20GB to the current directory (/kaggle/working/) that gets preserved as output when you create a version using \"Save & Run All\" \n",
    "# You can also write temporary files to /kaggle/temp/, but they won't be saved outside of the current session"
   ]
  },
  {
   "cell_type": "code",
   "execution_count": 2,
   "id": "86f0ce48",
   "metadata": {
    "execution": {
     "iopub.execute_input": "2021-09-16T06:40:46.758298Z",
     "iopub.status.busy": "2021-09-16T06:40:46.757669Z",
     "iopub.status.idle": "2021-09-16T06:40:46.792553Z",
     "shell.execute_reply": "2021-09-16T06:40:46.791799Z",
     "shell.execute_reply.started": "2021-09-16T06:37:01.344214Z"
    },
    "papermill": {
     "duration": 0.05641,
     "end_time": "2021-09-16T06:40:46.792728",
     "exception": false,
     "start_time": "2021-09-16T06:40:46.736318",
     "status": "completed"
    },
    "tags": []
   },
   "outputs": [
    {
     "name": "stdout",
     "output_type": "stream",
     "text": [
      "   Age  Gender                         Stream  Internships  CGPA  Hostel  \\\n",
      "0   22    Male  Electronics And Communication            1     8       1   \n",
      "1   21  Female               Computer Science            0     7       1   \n",
      "2   22  Female         Information Technology            1     6       0   \n",
      "3   21    Male         Information Technology            0     8       0   \n",
      "4   22    Male                     Mechanical            0     8       1   \n",
      "\n",
      "   HistoryOfBacklogs  PlacedOrNot  \n",
      "0                  1            1  \n",
      "1                  1            1  \n",
      "2                  0            1  \n",
      "3                  1            1  \n",
      "4                  0            1   \n",
      "\n",
      "\n",
      "(2966, 8)\n"
     ]
    }
   ],
   "source": [
    "df = pd.read_csv('/kaggle/input/engineering-placements-prediction/collegePlace.csv')\n",
    "print(df.head(), '\\n\\n')\n",
    "print(df.shape)"
   ]
  },
  {
   "cell_type": "code",
   "execution_count": 3,
   "id": "4969d238",
   "metadata": {
    "execution": {
     "iopub.execute_input": "2021-09-16T06:40:46.837989Z",
     "iopub.status.busy": "2021-09-16T06:40:46.837370Z",
     "iopub.status.idle": "2021-09-16T06:40:46.868586Z",
     "shell.execute_reply": "2021-09-16T06:40:46.868992Z",
     "shell.execute_reply.started": "2021-09-16T06:37:01.364560Z"
    },
    "papermill": {
     "duration": 0.058289,
     "end_time": "2021-09-16T06:40:46.869179",
     "exception": false,
     "start_time": "2021-09-16T06:40:46.810890",
     "status": "completed"
    },
    "tags": []
   },
   "outputs": [
    {
     "data": {
      "text/html": [
       "<div>\n",
       "<style scoped>\n",
       "    .dataframe tbody tr th:only-of-type {\n",
       "        vertical-align: middle;\n",
       "    }\n",
       "\n",
       "    .dataframe tbody tr th {\n",
       "        vertical-align: top;\n",
       "    }\n",
       "\n",
       "    .dataframe thead th {\n",
       "        text-align: right;\n",
       "    }\n",
       "</style>\n",
       "<table border=\"1\" class=\"dataframe\">\n",
       "  <thead>\n",
       "    <tr style=\"text-align: right;\">\n",
       "      <th></th>\n",
       "      <th>count</th>\n",
       "      <th>mean</th>\n",
       "      <th>std</th>\n",
       "      <th>min</th>\n",
       "      <th>25%</th>\n",
       "      <th>50%</th>\n",
       "      <th>75%</th>\n",
       "      <th>max</th>\n",
       "    </tr>\n",
       "  </thead>\n",
       "  <tbody>\n",
       "    <tr>\n",
       "      <th>Age</th>\n",
       "      <td>2966.0</td>\n",
       "      <td>21.485840</td>\n",
       "      <td>1.324933</td>\n",
       "      <td>19.0</td>\n",
       "      <td>21.0</td>\n",
       "      <td>21.0</td>\n",
       "      <td>22.0</td>\n",
       "      <td>30.0</td>\n",
       "    </tr>\n",
       "    <tr>\n",
       "      <th>Internships</th>\n",
       "      <td>2966.0</td>\n",
       "      <td>0.703641</td>\n",
       "      <td>0.740197</td>\n",
       "      <td>0.0</td>\n",
       "      <td>0.0</td>\n",
       "      <td>1.0</td>\n",
       "      <td>1.0</td>\n",
       "      <td>3.0</td>\n",
       "    </tr>\n",
       "    <tr>\n",
       "      <th>CGPA</th>\n",
       "      <td>2966.0</td>\n",
       "      <td>7.073837</td>\n",
       "      <td>0.967748</td>\n",
       "      <td>5.0</td>\n",
       "      <td>6.0</td>\n",
       "      <td>7.0</td>\n",
       "      <td>8.0</td>\n",
       "      <td>9.0</td>\n",
       "    </tr>\n",
       "    <tr>\n",
       "      <th>Hostel</th>\n",
       "      <td>2966.0</td>\n",
       "      <td>0.269049</td>\n",
       "      <td>0.443540</td>\n",
       "      <td>0.0</td>\n",
       "      <td>0.0</td>\n",
       "      <td>0.0</td>\n",
       "      <td>1.0</td>\n",
       "      <td>1.0</td>\n",
       "    </tr>\n",
       "    <tr>\n",
       "      <th>HistoryOfBacklogs</th>\n",
       "      <td>2966.0</td>\n",
       "      <td>0.192178</td>\n",
       "      <td>0.394079</td>\n",
       "      <td>0.0</td>\n",
       "      <td>0.0</td>\n",
       "      <td>0.0</td>\n",
       "      <td>0.0</td>\n",
       "      <td>1.0</td>\n",
       "    </tr>\n",
       "    <tr>\n",
       "      <th>PlacedOrNot</th>\n",
       "      <td>2966.0</td>\n",
       "      <td>0.552596</td>\n",
       "      <td>0.497310</td>\n",
       "      <td>0.0</td>\n",
       "      <td>0.0</td>\n",
       "      <td>1.0</td>\n",
       "      <td>1.0</td>\n",
       "      <td>1.0</td>\n",
       "    </tr>\n",
       "  </tbody>\n",
       "</table>\n",
       "</div>"
      ],
      "text/plain": [
       "                    count       mean       std   min   25%   50%   75%   max\n",
       "Age                2966.0  21.485840  1.324933  19.0  21.0  21.0  22.0  30.0\n",
       "Internships        2966.0   0.703641  0.740197   0.0   0.0   1.0   1.0   3.0\n",
       "CGPA               2966.0   7.073837  0.967748   5.0   6.0   7.0   8.0   9.0\n",
       "Hostel             2966.0   0.269049  0.443540   0.0   0.0   0.0   1.0   1.0\n",
       "HistoryOfBacklogs  2966.0   0.192178  0.394079   0.0   0.0   0.0   0.0   1.0\n",
       "PlacedOrNot        2966.0   0.552596  0.497310   0.0   0.0   1.0   1.0   1.0"
      ]
     },
     "execution_count": 3,
     "metadata": {},
     "output_type": "execute_result"
    }
   ],
   "source": [
    "df.describe().transpose()"
   ]
  },
  {
   "cell_type": "markdown",
   "id": "dcb0330c",
   "metadata": {
    "papermill": {
     "duration": 0.018292,
     "end_time": "2021-09-16T06:40:46.905802",
     "exception": false,
     "start_time": "2021-09-16T06:40:46.887510",
     "status": "completed"
    },
    "tags": []
   },
   "source": [
    "# **EDA**"
   ]
  },
  {
   "cell_type": "code",
   "execution_count": 4,
   "id": "02d81c6c",
   "metadata": {
    "execution": {
     "iopub.execute_input": "2021-09-16T06:40:46.945295Z",
     "iopub.status.busy": "2021-09-16T06:40:46.944653Z",
     "iopub.status.idle": "2021-09-16T06:40:47.187309Z",
     "shell.execute_reply": "2021-09-16T06:40:47.187710Z",
     "shell.execute_reply.started": "2021-09-16T06:37:01.395809Z"
    },
    "papermill": {
     "duration": 0.263862,
     "end_time": "2021-09-16T06:40:47.187904",
     "exception": false,
     "start_time": "2021-09-16T06:40:46.924042",
     "status": "completed"
    },
    "tags": []
   },
   "outputs": [
    {
     "data": {
      "image/png": "[encoded data removed]",
      "text/plain": [
       "<Figure size 432x288 with 1 Axes>"
      ]
     },
     "metadata": {
      "needs_background": "light"
     },
     "output_type": "display_data"
    }
   ],
   "source": [
    "sns.histplot(df['Age'], bins = 10, color = 'red', alpha = .9)\n",
    "plt.show()"
   ]
  },
  {
   "cell_type": "code",
   "execution_count": 5,
   "id": "c8fd3439",
   "metadata": {
    "execution": {
     "iopub.execute_input": "2021-09-16T06:40:47.229662Z",
     "iopub.status.busy": "2021-09-16T06:40:47.229016Z",
     "iopub.status.idle": "2021-09-16T06:40:47.356437Z",
     "shell.execute_reply": "2021-09-16T06:40:47.355847Z",
     "shell.execute_reply.started": "2021-09-16T06:37:01.578524Z"
    },
    "papermill": {
     "duration": 0.150062,
     "end_time": "2021-09-16T06:40:47.356571",
     "exception": false,
     "start_time": "2021-09-16T06:40:47.206509",
     "status": "completed"
    },
    "tags": []
   },
   "outputs": [
    {
     "data": {
      "image/png": "[encoded data removed]",
      "text/plain": [
       "<Figure size 432x288 with 1 Axes>"
      ]
     },
     "metadata": {
      "needs_background": "light"
     },
     "output_type": "display_data"
    }
   ],
   "source": [
    "sns.boxplot(df['Age'], color = 'brown')\n",
    "plt.show()"
   ]
  },
  {
   "cell_type": "code",
   "execution_count": 6,
   "id": "954e3dd7",
   "metadata": {
    "execution": {
     "iopub.execute_input": "2021-09-16T06:40:47.399555Z",
     "iopub.status.busy": "2021-09-16T06:40:47.398916Z",
     "iopub.status.idle": "2021-09-16T06:40:47.598833Z",
     "shell.execute_reply": "2021-09-16T06:40:47.599528Z",
     "shell.execute_reply.started": "2021-09-16T06:37:01.708710Z"
    },
    "papermill": {
     "duration": 0.224095,
     "end_time": "2021-09-16T06:40:47.599719",
     "exception": false,
     "start_time": "2021-09-16T06:40:47.375624",
     "status": "completed"
    },
    "tags": []
   },
   "outputs": [
    {
     "data": {
      "image/png": "[encoded data removed]",
      "text/plain": [
       "<Figure size 432x288 with 1 Axes>"
      ]
     },
     "metadata": {
      "needs_background": "light"
     },
     "output_type": "display_data"
    }
   ],
   "source": [
    "sns.countplot(df['Age'], palette = 'winter')\n",
    "plt.show()"
   ]
  },
  {
   "cell_type": "code",
   "execution_count": 7,
   "id": "e7b02f6d",
   "metadata": {
    "execution": {
     "iopub.execute_input": "2021-09-16T06:40:47.642322Z",
     "iopub.status.busy": "2021-09-16T06:40:47.641755Z",
     "iopub.status.idle": "2021-09-16T06:40:47.806524Z",
     "shell.execute_reply": "2021-09-16T06:40:47.806972Z",
     "shell.execute_reply.started": "2021-09-16T06:37:01.894708Z"
    },
    "papermill": {
     "duration": 0.187511,
     "end_time": "2021-09-16T06:40:47.807135",
     "exception": false,
     "start_time": "2021-09-16T06:40:47.619624",
     "status": "completed"
    },
    "tags": []
   },
   "outputs": [
    {
     "data": {
      "image/png": "[encoded data removed]",
      "text/plain": [
       "<Figure size 432x288 with 1 Axes>"
      ]
     },
     "metadata": {
      "needs_background": "light"
     },
     "output_type": "display_data"
    }
   ],
   "source": [
    "sns.countplot(df['Internships'], hue = df['PlacedOrNot'])\n",
    "plt.show()"
   ]
  },
  {
   "cell_type": "markdown",
   "id": "34fba458",
   "metadata": {
    "papermill": {
     "duration": 0.020201,
     "end_time": "2021-09-16T06:40:47.848261",
     "exception": false,
     "start_time": "2021-09-16T06:40:47.828060",
     "status": "completed"
    },
    "tags": []
   },
   "source": [
    "# **Machine Learning Models**"
   ]
  },
  {
   "cell_type": "markdown",
   "id": "cbcb9973",
   "metadata": {
    "papermill": {
     "duration": 0.022652,
     "end_time": "2021-09-16T06:40:47.891441",
     "exception": false,
     "start_time": "2021-09-16T06:40:47.868789",
     "status": "completed"
    },
    "tags": []
   },
   "source": [
    "train_test_split"
   ]
  },
  {
   "cell_type": "code",
   "execution_count": 8,
   "id": "08184681",
   "metadata": {
    "execution": {
     "iopub.execute_input": "2021-09-16T06:40:47.944503Z",
     "iopub.status.busy": "2021-09-16T06:40:47.943586Z",
     "iopub.status.idle": "2021-09-16T06:40:48.099260Z",
     "shell.execute_reply": "2021-09-16T06:40:48.098709Z",
     "shell.execute_reply.started": "2021-09-16T06:37:02.071898Z"
    },
    "papermill": {
     "duration": 0.184867,
     "end_time": "2021-09-16T06:40:48.099395",
     "exception": false,
     "start_time": "2021-09-16T06:40:47.914528",
     "status": "completed"
    },
    "tags": []
   },
   "outputs": [],
   "source": [
    "from sklearn.model_selection import train_test_split"
   ]
  },
  {
   "cell_type": "code",
   "execution_count": 9,
   "id": "726d3b49",
   "metadata": {
    "execution": {
     "iopub.execute_input": "2021-09-16T06:40:48.147600Z",
     "iopub.status.busy": "2021-09-16T06:40:48.146826Z",
     "iopub.status.idle": "2021-09-16T06:40:48.152522Z",
     "shell.execute_reply": "2021-09-16T06:40:48.151924Z",
     "shell.execute_reply.started": "2021-09-16T06:37:02.076718Z"
    },
    "papermill": {
     "duration": 0.032755,
     "end_time": "2021-09-16T06:40:48.152654",
     "exception": false,
     "start_time": "2021-09-16T06:40:48.119899",
     "status": "completed"
    },
    "tags": []
   },
   "outputs": [],
   "source": [
    "X_train, X_test, y_train, y_test = train_test_split(df.drop(['PlacedOrNot', 'Gender', 'Stream'], axis=1), df.PlacedOrNot, test_size=0.33, random_state=42)"
   ]
  },
  {
   "cell_type": "code",
   "execution_count": 10,
   "id": "5968c5e9",
   "metadata": {
    "execution": {
     "iopub.execute_input": "2021-09-16T06:40:48.197977Z",
     "iopub.status.busy": "2021-09-16T06:40:48.197301Z",
     "iopub.status.idle": "2021-09-16T06:40:48.469619Z",
     "shell.execute_reply": "2021-09-16T06:40:48.468530Z",
     "shell.execute_reply.started": "2021-09-16T06:37:02.094651Z"
    },
    "papermill": {
     "duration": 0.296643,
     "end_time": "2021-09-16T06:40:48.469767",
     "exception": false,
     "start_time": "2021-09-16T06:40:48.173124",
     "status": "completed"
    },
    "tags": []
   },
   "outputs": [],
   "source": [
    "from sklearn.ensemble import RandomForestClassifier"
   ]
  },
  {
   "cell_type": "code",
   "execution_count": 11,
   "id": "538d37a0",
   "metadata": {
    "execution": {
     "iopub.execute_input": "2021-09-16T06:40:48.543666Z",
     "iopub.status.busy": "2021-09-16T06:40:48.516600Z",
     "iopub.status.idle": "2021-09-16T06:40:48.883958Z",
     "shell.execute_reply": "2021-09-16T06:40:48.884416Z",
     "shell.execute_reply.started": "2021-09-16T06:37:02.104940Z"
    },
    "papermill": {
     "duration": 0.394,
     "end_time": "2021-09-16T06:40:48.884577",
     "exception": false,
     "start_time": "2021-09-16T06:40:48.490577",
     "status": "completed"
    },
    "tags": []
   },
   "outputs": [
    {
     "data": {
      "text/plain": [
       "RandomForestClassifier(n_estimators=200, random_state=101)"
      ]
     },
     "execution_count": 11,
     "metadata": {},
     "output_type": "execute_result"
    }
   ],
   "source": [
    "rfc = RandomForestClassifier(n_estimators=200, random_state=101)\n",
    "\n",
    "rfc.fit(X_train, y_train)"
   ]
  },
  {
   "cell_type": "markdown",
   "id": "4a947d5f",
   "metadata": {
    "papermill": {
     "duration": 0.020637,
     "end_time": "2021-09-16T06:40:48.926281",
     "exception": false,
     "start_time": "2021-09-16T06:40:48.905644",
     "status": "completed"
    },
    "tags": []
   },
   "source": [
    "Predictions and Evaluation Metrics"
   ]
  },
  {
   "cell_type": "code",
   "execution_count": 12,
   "id": "bfdff183",
   "metadata": {
    "execution": {
     "iopub.execute_input": "2021-09-16T06:40:48.973111Z",
     "iopub.status.busy": "2021-09-16T06:40:48.972531Z",
     "iopub.status.idle": "2021-09-16T06:40:48.974246Z",
     "shell.execute_reply": "2021-09-16T06:40:48.974628Z",
     "shell.execute_reply.started": "2021-09-16T06:37:02.489091Z"
    },
    "papermill": {
     "duration": 0.027661,
     "end_time": "2021-09-16T06:40:48.974783",
     "exception": false,
     "start_time": "2021-09-16T06:40:48.947122",
     "status": "completed"
    },
    "tags": []
   },
   "outputs": [],
   "source": [
    "from sklearn.metrics import classification_report, confusion_matrix, mean_absolute_error, accuracy_score\n",
    "\n",
    "def eval_metrics(yt, model):\n",
    "    prediction = model.predict(X_test)\n",
    "    print('Confusion matrix : \\n', confusion_matrix(yt, prediction), '\\n\\n\\n\\n')\n",
    "    print('Classification report : \\n' ,classification_report(yt, prediction), '\\n\\n\\n\\n')\n",
    "    print('Accuracy score : ' ,accuracy_score(yt, prediction), '\\n')"
   ]
  },
  {
   "cell_type": "code",
   "execution_count": 13,
   "id": "e6a6c5b1",
   "metadata": {
    "execution": {
     "iopub.execute_input": "2021-09-16T06:40:49.032662Z",
     "iopub.status.busy": "2021-09-16T06:40:49.031709Z",
     "iopub.status.idle": "2021-09-16T06:40:49.109628Z",
     "shell.execute_reply": "2021-09-16T06:40:49.110279Z",
     "shell.execute_reply.started": "2021-09-16T06:37:02.495299Z"
    },
    "papermill": {
     "duration": 0.111426,
     "end_time": "2021-09-16T06:40:49.110506",
     "exception": false,
     "start_time": "2021-09-16T06:40:48.999080",
     "status": "completed"
    },
    "tags": []
   },
   "outputs": [
    {
     "name": "stdout",
     "output_type": "stream",
     "text": [
      "Confusion matrix : \n",
      " [[407  25]\n",
      " [ 98 449]] \n",
      "\n",
      "\n",
      "\n",
      "\n",
      "Classification report : \n",
      "               precision    recall  f1-score   support\n",
      "\n",
      "           0       0.81      0.94      0.87       432\n",
      "           1       0.95      0.82      0.88       547\n",
      "\n",
      "    accuracy                           0.87       979\n",
      "   macro avg       0.88      0.88      0.87       979\n",
      "weighted avg       0.88      0.87      0.87       979\n",
      " \n",
      "\n",
      "\n",
      "\n",
      "\n",
      "Accuracy score :  0.874361593462717 \n",
      "\n"
     ]
    }
   ],
   "source": [
    "eval_metrics(y_test, rfc)"
   ]
  },
  {
   "cell_type": "markdown",
   "id": "eb55c850",
   "metadata": {
    "papermill": {
     "duration": 0.020483,
     "end_time": "2021-09-16T06:40:49.152966",
     "exception": false,
     "start_time": "2021-09-16T06:40:49.132483",
     "status": "completed"
    },
    "tags": []
   },
   "source": [
    "Logistic Regression"
   ]
  },
  {
   "cell_type": "code",
   "execution_count": 14,
   "id": "cc4537ce",
   "metadata": {
    "execution": {
     "iopub.execute_input": "2021-09-16T06:40:49.197858Z",
     "iopub.status.busy": "2021-09-16T06:40:49.197280Z",
     "iopub.status.idle": "2021-09-16T06:40:49.832750Z",
     "shell.execute_reply": "2021-09-16T06:40:49.833685Z",
     "shell.execute_reply.started": "2021-09-16T06:37:02.562013Z"
    },
    "papermill": {
     "duration": 0.659642,
     "end_time": "2021-09-16T06:40:49.833958",
     "exception": false,
     "start_time": "2021-09-16T06:40:49.174316",
     "status": "completed"
    },
    "tags": []
   },
   "outputs": [
    {
     "data": {
      "text/plain": [
       "LogisticRegressionCV(random_state=101)"
      ]
     },
     "execution_count": 14,
     "metadata": {},
     "output_type": "execute_result"
    }
   ],
   "source": [
    "from sklearn.linear_model import LogisticRegressionCV\n",
    "lr = LogisticRegressionCV(random_state=101)\n",
    "lr.fit(X_train, y_train)"
   ]
  },
  {
   "cell_type": "code",
   "execution_count": 15,
   "id": "99ae2182",
   "metadata": {
    "execution": {
     "iopub.execute_input": "2021-09-16T06:40:49.927730Z",
     "iopub.status.busy": "2021-09-16T06:40:49.926684Z",
     "iopub.status.idle": "2021-09-16T06:40:49.944425Z",
     "shell.execute_reply": "2021-09-16T06:40:49.945370Z",
     "shell.execute_reply.started": "2021-09-16T06:37:03.058567Z"
    },
    "papermill": {
     "duration": 0.0695,
     "end_time": "2021-09-16T06:40:49.945627",
     "exception": false,
     "start_time": "2021-09-16T06:40:49.876127",
     "status": "completed"
    },
    "tags": []
   },
   "outputs": [
    {
     "name": "stdout",
     "output_type": "stream",
     "text": [
      "Confusion matrix : \n",
      " [[325 107]\n",
      " [132 415]] \n",
      "\n",
      "\n",
      "\n",
      "\n",
      "Classification report : \n",
      "               precision    recall  f1-score   support\n",
      "\n",
      "           0       0.71      0.75      0.73       432\n",
      "           1       0.80      0.76      0.78       547\n",
      "\n",
      "    accuracy                           0.76       979\n",
      "   macro avg       0.75      0.76      0.75       979\n",
      "weighted avg       0.76      0.76      0.76       979\n",
      " \n",
      "\n",
      "\n",
      "\n",
      "\n",
      "Accuracy score :  0.7558733401430031 \n",
      "\n"
     ]
    }
   ],
   "source": [
    "eval_metrics(y_test, lr)"
   ]
  },
  {
   "cell_type": "markdown",
   "id": "b87e0706",
   "metadata": {
    "papermill": {
     "duration": 0.020942,
     "end_time": "2021-09-16T06:40:49.988829",
     "exception": false,
     "start_time": "2021-09-16T06:40:49.967887",
     "status": "completed"
    },
    "tags": []
   },
   "source": [
    "Support Vector Machine"
   ]
  },
  {
   "cell_type": "code",
   "execution_count": 16,
   "id": "0c31ccd1",
   "metadata": {
    "execution": {
     "iopub.execute_input": "2021-09-16T06:40:50.034344Z",
     "iopub.status.busy": "2021-09-16T06:40:50.033771Z",
     "iopub.status.idle": "2021-09-16T06:40:50.118735Z",
     "shell.execute_reply": "2021-09-16T06:40:50.119226Z",
     "shell.execute_reply.started": "2021-09-16T06:37:03.080545Z"
    },
    "papermill": {
     "duration": 0.109203,
     "end_time": "2021-09-16T06:40:50.119395",
     "exception": false,
     "start_time": "2021-09-16T06:40:50.010192",
     "status": "completed"
    },
    "tags": []
   },
   "outputs": [
    {
     "data": {
      "text/plain": [
       "SVC(kernel='linear')"
      ]
     },
     "execution_count": 16,
     "metadata": {},
     "output_type": "execute_result"
    }
   ],
   "source": [
    "from sklearn.svm import SVC\n",
    "svc = SVC(kernel = 'linear')\n",
    "svc.fit(X_train, y_train)"
   ]
  },
  {
   "cell_type": "code",
   "execution_count": 17,
   "id": "ba325524",
   "metadata": {
    "execution": {
     "iopub.execute_input": "2021-09-16T06:40:50.169114Z",
     "iopub.status.busy": "2021-09-16T06:40:50.168507Z",
     "iopub.status.idle": "2021-09-16T06:40:50.189705Z",
     "shell.execute_reply": "2021-09-16T06:40:50.190170Z",
     "shell.execute_reply.started": "2021-09-16T06:37:03.205726Z"
    },
    "papermill": {
     "duration": 0.049022,
     "end_time": "2021-09-16T06:40:50.190336",
     "exception": false,
     "start_time": "2021-09-16T06:40:50.141314",
     "status": "completed"
    },
    "tags": []
   },
   "outputs": [
    {
     "name": "stdout",
     "output_type": "stream",
     "text": [
      "Confusion matrix : \n",
      " [[321 111]\n",
      " [132 415]] \n",
      "\n",
      "\n",
      "\n",
      "\n",
      "Classification report : \n",
      "               precision    recall  f1-score   support\n",
      "\n",
      "           0       0.71      0.74      0.73       432\n",
      "           1       0.79      0.76      0.77       547\n",
      "\n",
      "    accuracy                           0.75       979\n",
      "   macro avg       0.75      0.75      0.75       979\n",
      "weighted avg       0.75      0.75      0.75       979\n",
      " \n",
      "\n",
      "\n",
      "\n",
      "\n",
      "Accuracy score :  0.7517875383043923 \n",
      "\n"
     ]
    }
   ],
   "source": [
    "eval_metrics(y_test, svc)"
   ]
  },
  {
   "cell_type": "markdown",
   "id": "a6ef9ae3",
   "metadata": {
    "papermill": {
     "duration": 0.021724,
     "end_time": "2021-09-16T06:40:50.234224",
     "exception": false,
     "start_time": "2021-09-16T06:40:50.212500",
     "status": "completed"
    },
    "tags": []
   },
   "source": [
    "KNN model"
   ]
  },
  {
   "cell_type": "code",
   "execution_count": 18,
   "id": "47eb59a7",
   "metadata": {
    "execution": {
     "iopub.execute_input": "2021-09-16T06:40:50.282984Z",
     "iopub.status.busy": "2021-09-16T06:40:50.282082Z",
     "iopub.status.idle": "2021-09-16T06:40:50.285002Z",
     "shell.execute_reply": "2021-09-16T06:40:50.284546Z",
     "shell.execute_reply.started": "2021-09-16T06:37:03.235995Z"
    },
    "papermill": {
     "duration": 0.028862,
     "end_time": "2021-09-16T06:40:50.285134",
     "exception": false,
     "start_time": "2021-09-16T06:40:50.256272",
     "status": "completed"
    },
    "tags": []
   },
   "outputs": [],
   "source": [
    "from sklearn.neighbors import KNeighborsClassifier\n",
    "from sklearn.metrics import mean_absolute_error"
   ]
  },
  {
   "cell_type": "code",
   "execution_count": 19,
   "id": "5b915721",
   "metadata": {
    "execution": {
     "iopub.execute_input": "2021-09-16T06:40:50.334895Z",
     "iopub.status.busy": "2021-09-16T06:40:50.334071Z",
     "iopub.status.idle": "2021-09-16T06:40:50.340859Z",
     "shell.execute_reply": "2021-09-16T06:40:50.340399Z",
     "shell.execute_reply.started": "2021-09-16T06:37:03.241676Z"
    },
    "papermill": {
     "duration": 0.034105,
     "end_time": "2021-09-16T06:40:50.340992",
     "exception": false,
     "start_time": "2021-09-16T06:40:50.306887",
     "status": "completed"
    },
    "tags": []
   },
   "outputs": [],
   "source": [
    "knn = KNeighborsClassifier( n_neighbors=18).fit(X_train, y_train)"
   ]
  },
  {
   "cell_type": "code",
   "execution_count": 20,
   "id": "44bf642c",
   "metadata": {
    "execution": {
     "iopub.execute_input": "2021-09-16T06:40:50.391250Z",
     "iopub.status.busy": "2021-09-16T06:40:50.390402Z",
     "iopub.status.idle": "2021-09-16T06:40:50.440292Z",
     "shell.execute_reply": "2021-09-16T06:40:50.439476Z",
     "shell.execute_reply.started": "2021-09-16T06:37:03.258763Z"
    },
    "papermill": {
     "duration": 0.077801,
     "end_time": "2021-09-16T06:40:50.440476",
     "exception": false,
     "start_time": "2021-09-16T06:40:50.362675",
     "status": "completed"
    },
    "tags": []
   },
   "outputs": [
    {
     "name": "stdout",
     "output_type": "stream",
     "text": [
      "Confusion matrix : \n",
      " [[412  20]\n",
      " [101 446]] \n",
      "\n",
      "\n",
      "\n",
      "\n",
      "Classification report : \n",
      "               precision    recall  f1-score   support\n",
      "\n",
      "           0       0.80      0.95      0.87       432\n",
      "           1       0.96      0.82      0.88       547\n",
      "\n",
      "    accuracy                           0.88       979\n",
      "   macro avg       0.88      0.88      0.88       979\n",
      "weighted avg       0.89      0.88      0.88       979\n",
      " \n",
      "\n",
      "\n",
      "\n",
      "\n",
      "Accuracy score :  0.8764044943820225 \n",
      "\n"
     ]
    }
   ],
   "source": [
    "eval_metrics(y_test, knn)"
   ]
  },
  {
   "cell_type": "markdown",
   "id": "b8b7c2bf",
   "metadata": {
    "papermill": {
     "duration": 0.021627,
     "end_time": "2021-09-16T06:40:50.485454",
     "exception": false,
     "start_time": "2021-09-16T06:40:50.463827",
     "status": "completed"
    },
    "tags": []
   },
   "source": [
    "Choosing the Right K Value"
   ]
  },
  {
   "cell_type": "code",
   "execution_count": 21,
   "id": "c8946a32",
   "metadata": {
    "execution": {
     "iopub.execute_input": "2021-09-16T06:40:50.537049Z",
     "iopub.status.busy": "2021-09-16T06:40:50.536479Z",
     "iopub.status.idle": "2021-09-16T06:40:51.632422Z",
     "shell.execute_reply": "2021-09-16T06:40:51.631899Z",
     "shell.execute_reply.started": "2021-09-16T06:39:29.948764Z"
    },
    "papermill": {
     "duration": 1.124127,
     "end_time": "2021-09-16T06:40:51.632573",
     "exception": false,
     "start_time": "2021-09-16T06:40:50.508446",
     "status": "completed"
    },
    "tags": []
   },
   "outputs": [],
   "source": [
    "error_rate = []\n",
    "for x in range(4,30):\n",
    "    knn = KNeighborsClassifier( n_neighbors=x).fit(X_train, y_train)\n",
    "    xpred = knn.predict(X_test)\n",
    "    error_rate.append(mean_absolute_error(xpred, y_test))"
   ]
  },
  {
   "cell_type": "code",
   "execution_count": 22,
   "id": "ef9ea168",
   "metadata": {
    "execution": {
     "iopub.execute_input": "2021-09-16T06:40:51.705476Z",
     "iopub.status.busy": "2021-09-16T06:40:51.704722Z",
     "iopub.status.idle": "2021-09-16T06:40:51.879161Z",
     "shell.execute_reply": "2021-09-16T06:40:51.878658Z",
     "shell.execute_reply.started": "2021-09-16T06:39:33.382521Z"
    },
    "papermill": {
     "duration": 0.224409,
     "end_time": "2021-09-16T06:40:51.879298",
     "exception": false,
     "start_time": "2021-09-16T06:40:51.654889",
     "status": "completed"
    },
    "tags": []
   },
   "outputs": [
    {
     "data": {
      "text/plain": [
       "Text(0.5, 1.0, 'Error rate vs Kvalue')"
      ]
     },
     "execution_count": 22,
     "metadata": {},
     "output_type": "execute_result"
    },
    {
     "data": {
      "image/png": "[encoded data removed]",
      "text/plain": [
       "<Figure size 432x288 with 1 Axes>"
      ]
     },
     "metadata": {
      "needs_background": "light"
     },
     "output_type": "display_data"
    }
   ],
   "source": [
    "plt.plot(range(4,30), error_rate,)\n",
    "plt.xlabel('KNN')\n",
    "plt.ylabel('Error_Rate')\n",
    "plt.title('Error rate vs Kvalue')"
   ]
  },
  {
   "cell_type": "markdown",
   "id": "b7a3d61c",
   "metadata": {
    "papermill": {
     "duration": 0.022859,
     "end_time": "2021-09-16T06:40:51.925533",
     "exception": false,
     "start_time": "2021-09-16T06:40:51.902674",
     "status": "completed"
    },
    "tags": []
   },
   "source": [
    "Best KNN value is 18 based on the plot."
   ]
  },
  {
   "cell_type": "code",
   "execution_count": null,
   "id": "bc13e9ec",
   "metadata": {
    "papermill": {
     "duration": 0.022812,
     "end_time": "2021-09-16T06:40:51.971586",
     "exception": false,
     "start_time": "2021-09-16T06:40:51.948774",
     "status": "completed"
    },
    "tags": []
   },
   "outputs": [],
   "source": []
  }
 ],
 "metadata": {
  "kernelspec": {
   "display_name": "Python 3",
   "language": "python",
   "name": "python3"
  },
  "language_info": {
   "codemirror_mode": {
    "name": "ipython",
    "version": 3
   },
   "file_extension": ".py",
   "mimetype": "text/x-python",
   "name": "python",
   "nbconvert_exporter": "python",
   "pygments_lexer": "ipython3",
   "version": "3.7.10"
  },
  "papermill": {
   "default_parameters": {},
   "duration": 14.707369,
   "end_time": "2021-09-16T06:40:53.495998",
   "environment_variables": {},
   "exception": null,
   "input_path": "__notebook__.ipynb",
   "output_path": "__notebook__.ipynb",
   "parameters": {},
   "start_time": "2021-09-16T06:40:38.788629",
   "version": "2.3.3"
  }
 },
 "nbformat": 4,
 "nbformat_minor": 5
}
