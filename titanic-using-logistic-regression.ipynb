{
 "cells": [
  {
   "cell_type": "code",
   "execution_count": 1,
   "id": "c633d816",
   "metadata": {
    "_cell_guid": "b1076dfc-b9ad-4769-8c92-a6c4dae69d19",
    "_uuid": "8f2839f25d086af736a60e9eeb907d3b93b6e0e5",
    "execution": {
     "iopub.execute_input": "2021-08-12T17:05:56.896332Z",
     "iopub.status.busy": "2021-08-12T17:05:56.895149Z",
     "iopub.status.idle": "2021-08-12T17:05:58.124190Z",
     "shell.execute_reply": "2021-08-12T17:05:58.123292Z",
     "shell.execute_reply.started": "2021-08-12T16:57:32.011237Z"
    },
    "papermill": {
     "duration": 1.259742,
     "end_time": "2021-08-12T17:05:58.124384",
     "exception": false,
     "start_time": "2021-08-12T17:05:56.864642",
     "status": "completed"
    },
    "tags": []
   },
   "outputs": [
    {
     "name": "stdout",
     "output_type": "stream",
     "text": [
      "/kaggle/input/titanic/train.csv\n",
      "/kaggle/input/titanic/test.csv\n",
      "/kaggle/input/titanic/gender_submission.csv\n"
     ]
    }
   ],
   "source": [
    "\n",
    "import numpy as np # linear algebra\n",
    "import pandas as pd \n",
    "import matplotlib.pyplot as plt\n",
    "import seaborn as sns\n",
    "from sklearn.preprocessing import LabelEncoder\n",
    "from sklearn.linear_model import LogisticRegression\n",
    "from sklearn.model_selection import train_test_split\n",
    "from sklearn.metrics import classification_report\n",
    "sns.set()\n",
    "%matplotlib inline\n",
    "import os\n",
    "for dirname, _, filenames in os.walk('/kaggle/input'):\n",
    "    for filename in filenames:\n",
    "        print(os.path.join(dirname, filename))"
   ]
  },
  {
   "cell_type": "code",
   "execution_count": 2,
   "id": "839be185",
   "metadata": {
    "execution": {
     "iopub.execute_input": "2021-08-12T17:05:58.181444Z",
     "iopub.status.busy": "2021-08-12T17:05:58.180808Z",
     "iopub.status.idle": "2021-08-12T17:05:58.210312Z",
     "shell.execute_reply": "2021-08-12T17:05:58.209744Z",
     "shell.execute_reply.started": "2021-08-12T16:57:32.024672Z"
    },
    "papermill": {
     "duration": 0.059004,
     "end_time": "2021-08-12T17:05:58.210467",
     "exception": false,
     "start_time": "2021-08-12T17:05:58.151463",
     "status": "completed"
    },
    "tags": []
   },
   "outputs": [],
   "source": [
    "train = pd.read_csv(\"/kaggle/input/titanic/train.csv\")\n",
    "test = pd.read_csv('/kaggle/input/titanic/test.csv')\n"
   ]
  },
  {
   "cell_type": "code",
   "execution_count": 3,
   "id": "7d64a4bd",
   "metadata": {
    "execution": {
     "iopub.execute_input": "2021-08-12T17:05:58.274392Z",
     "iopub.status.busy": "2021-08-12T17:05:58.273487Z",
     "iopub.status.idle": "2021-08-12T17:05:58.296518Z",
     "shell.execute_reply": "2021-08-12T17:05:58.297055Z",
     "shell.execute_reply.started": "2021-08-12T16:57:32.045638Z"
    },
    "papermill": {
     "duration": 0.060187,
     "end_time": "2021-08-12T17:05:58.297213",
     "exception": false,
     "start_time": "2021-08-12T17:05:58.237026",
     "status": "completed"
    },
    "tags": []
   },
   "outputs": [
    {
     "data": {
      "text/html": [
       "<div>\n",
       "<style scoped>\n",
       "    .dataframe tbody tr th:only-of-type {\n",
       "        vertical-align: middle;\n",
       "    }\n",
       "\n",
       "    .dataframe tbody tr th {\n",
       "        vertical-align: top;\n",
       "    }\n",
       "\n",
       "    .dataframe thead th {\n",
       "        text-align: right;\n",
       "    }\n",
       "</style>\n",
       "<table border=\"1\" class=\"dataframe\">\n",
       "  <thead>\n",
       "    <tr style=\"text-align: right;\">\n",
       "      <th></th>\n",
       "      <th>PassengerId</th>\n",
       "      <th>Survived</th>\n",
       "      <th>Pclass</th>\n",
       "      <th>Name</th>\n",
       "      <th>Sex</th>\n",
       "      <th>Age</th>\n",
       "      <th>SibSp</th>\n",
       "      <th>Parch</th>\n",
       "      <th>Ticket</th>\n",
       "      <th>Fare</th>\n",
       "      <th>Cabin</th>\n",
       "      <th>Embarked</th>\n",
       "    </tr>\n",
       "  </thead>\n",
       "  <tbody>\n",
       "    <tr>\n",
       "      <th>0</th>\n",
       "      <td>1</td>\n",
       "      <td>0</td>\n",
       "      <td>3</td>\n",
       "      <td>Braund, Mr. Owen Harris</td>\n",
       "      <td>male</td>\n",
       "      <td>22.0</td>\n",
       "      <td>1</td>\n",
       "      <td>0</td>\n",
       "      <td>A/5 21171</td>\n",
       "      <td>7.2500</td>\n",
       "      <td>NaN</td>\n",
       "      <td>S</td>\n",
       "    </tr>\n",
       "    <tr>\n",
       "      <th>1</th>\n",
       "      <td>2</td>\n",
       "      <td>1</td>\n",
       "      <td>1</td>\n",
       "      <td>Cumings, Mrs. John Bradley (Florence Briggs Th...</td>\n",
       "      <td>female</td>\n",
       "      <td>38.0</td>\n",
       "      <td>1</td>\n",
       "      <td>0</td>\n",
       "      <td>PC 17599</td>\n",
       "      <td>71.2833</td>\n",
       "      <td>C85</td>\n",
       "      <td>C</td>\n",
       "    </tr>\n",
       "    <tr>\n",
       "      <th>2</th>\n",
       "      <td>3</td>\n",
       "      <td>1</td>\n",
       "      <td>3</td>\n",
       "      <td>Heikkinen, Miss. Laina</td>\n",
       "      <td>female</td>\n",
       "      <td>26.0</td>\n",
       "      <td>0</td>\n",
       "      <td>0</td>\n",
       "      <td>STON/O2. 3101282</td>\n",
       "      <td>7.9250</td>\n",
       "      <td>NaN</td>\n",
       "      <td>S</td>\n",
       "    </tr>\n",
       "    <tr>\n",
       "      <th>3</th>\n",
       "      <td>4</td>\n",
       "      <td>1</td>\n",
       "      <td>1</td>\n",
       "      <td>Futrelle, Mrs. Jacques Heath (Lily May Peel)</td>\n",
       "      <td>female</td>\n",
       "      <td>35.0</td>\n",
       "      <td>1</td>\n",
       "      <td>0</td>\n",
       "      <td>113803</td>\n",
       "      <td>53.1000</td>\n",
       "      <td>C123</td>\n",
       "      <td>S</td>\n",
       "    </tr>\n",
       "    <tr>\n",
       "      <th>4</th>\n",
       "      <td>5</td>\n",
       "      <td>0</td>\n",
       "      <td>3</td>\n",
       "      <td>Allen, Mr. William Henry</td>\n",
       "      <td>male</td>\n",
       "      <td>35.0</td>\n",
       "      <td>0</td>\n",
       "      <td>0</td>\n",
       "      <td>373450</td>\n",
       "      <td>8.0500</td>\n",
       "      <td>NaN</td>\n",
       "      <td>S</td>\n",
       "    </tr>\n",
       "  </tbody>\n",
       "</table>\n",
       "</div>"
      ],
      "text/plain": [
       "   PassengerId  Survived  Pclass  \\\n",
       "0            1         0       3   \n",
       "1            2         1       1   \n",
       "2            3         1       3   \n",
       "3            4         1       1   \n",
       "4            5         0       3   \n",
       "\n",
       "                                                Name     Sex   Age  SibSp  \\\n",
       "0                            Braund, Mr. Owen Harris    male  22.0      1   \n",
       "1  Cumings, Mrs. John Bradley (Florence Briggs Th...  female  38.0      1   \n",
       "2                             Heikkinen, Miss. Laina  female  26.0      0   \n",
       "3       Futrelle, Mrs. Jacques Heath (Lily May Peel)  female  35.0      1   \n",
       "4                           Allen, Mr. William Henry    male  35.0      0   \n",
       "\n",
       "   Parch            Ticket     Fare Cabin Embarked  \n",
       "0      0         A/5 21171   7.2500   NaN        S  \n",
       "1      0          PC 17599  71.2833   C85        C  \n",
       "2      0  STON/O2. 3101282   7.9250   NaN        S  \n",
       "3      0            113803  53.1000  C123        S  \n",
       "4      0            373450   8.0500   NaN        S  "
      ]
     },
     "execution_count": 3,
     "metadata": {},
     "output_type": "execute_result"
    }
   ],
   "source": [
    "train.head()"
   ]
  },
  {
   "cell_type": "code",
   "execution_count": 4,
   "id": "965bd255",
   "metadata": {
    "execution": {
     "iopub.execute_input": "2021-08-12T17:05:58.354123Z",
     "iopub.status.busy": "2021-08-12T17:05:58.353167Z",
     "iopub.status.idle": "2021-08-12T17:05:58.369671Z",
     "shell.execute_reply": "2021-08-12T17:05:58.370193Z",
     "shell.execute_reply.started": "2021-08-12T16:57:32.064683Z"
    },
    "papermill": {
     "duration": 0.046472,
     "end_time": "2021-08-12T17:05:58.370375",
     "exception": false,
     "start_time": "2021-08-12T17:05:58.323903",
     "status": "completed"
    },
    "tags": []
   },
   "outputs": [
    {
     "data": {
      "text/html": [
       "<div>\n",
       "<style scoped>\n",
       "    .dataframe tbody tr th:only-of-type {\n",
       "        vertical-align: middle;\n",
       "    }\n",
       "\n",
       "    .dataframe tbody tr th {\n",
       "        vertical-align: top;\n",
       "    }\n",
       "\n",
       "    .dataframe thead th {\n",
       "        text-align: right;\n",
       "    }\n",
       "</style>\n",
       "<table border=\"1\" class=\"dataframe\">\n",
       "  <thead>\n",
       "    <tr style=\"text-align: right;\">\n",
       "      <th></th>\n",
       "      <th>PassengerId</th>\n",
       "      <th>Pclass</th>\n",
       "      <th>Sex</th>\n",
       "      <th>Age</th>\n",
       "      <th>SibSp</th>\n",
       "      <th>Parch</th>\n",
       "      <th>Fare</th>\n",
       "    </tr>\n",
       "  </thead>\n",
       "  <tbody>\n",
       "    <tr>\n",
       "      <th>0</th>\n",
       "      <td>892</td>\n",
       "      <td>3</td>\n",
       "      <td>male</td>\n",
       "      <td>34.5</td>\n",
       "      <td>0</td>\n",
       "      <td>0</td>\n",
       "      <td>7.8292</td>\n",
       "    </tr>\n",
       "    <tr>\n",
       "      <th>1</th>\n",
       "      <td>893</td>\n",
       "      <td>3</td>\n",
       "      <td>female</td>\n",
       "      <td>47.0</td>\n",
       "      <td>1</td>\n",
       "      <td>0</td>\n",
       "      <td>7.0000</td>\n",
       "    </tr>\n",
       "    <tr>\n",
       "      <th>2</th>\n",
       "      <td>894</td>\n",
       "      <td>2</td>\n",
       "      <td>male</td>\n",
       "      <td>62.0</td>\n",
       "      <td>0</td>\n",
       "      <td>0</td>\n",
       "      <td>9.6875</td>\n",
       "    </tr>\n",
       "    <tr>\n",
       "      <th>3</th>\n",
       "      <td>895</td>\n",
       "      <td>3</td>\n",
       "      <td>male</td>\n",
       "      <td>27.0</td>\n",
       "      <td>0</td>\n",
       "      <td>0</td>\n",
       "      <td>8.6625</td>\n",
       "    </tr>\n",
       "    <tr>\n",
       "      <th>4</th>\n",
       "      <td>896</td>\n",
       "      <td>3</td>\n",
       "      <td>female</td>\n",
       "      <td>22.0</td>\n",
       "      <td>1</td>\n",
       "      <td>1</td>\n",
       "      <td>12.2875</td>\n",
       "    </tr>\n",
       "  </tbody>\n",
       "</table>\n",
       "</div>"
      ],
      "text/plain": [
       "   PassengerId  Pclass     Sex   Age  SibSp  Parch     Fare\n",
       "0          892       3    male  34.5      0      0   7.8292\n",
       "1          893       3  female  47.0      1      0   7.0000\n",
       "2          894       2    male  62.0      0      0   9.6875\n",
       "3          895       3    male  27.0      0      0   8.6625\n",
       "4          896       3  female  22.0      1      1  12.2875"
      ]
     },
     "execution_count": 4,
     "metadata": {},
     "output_type": "execute_result"
    }
   ],
   "source": [
    "test.drop(['Name', 'Cabin', 'Ticket', 'Embarked'], axis=1, inplace=True)\n",
    "test.head()"
   ]
  },
  {
   "cell_type": "code",
   "execution_count": 5,
   "id": "11e8e0c6",
   "metadata": {
    "execution": {
     "iopub.execute_input": "2021-08-12T17:05:58.428092Z",
     "iopub.status.busy": "2021-08-12T17:05:58.427129Z",
     "iopub.status.idle": "2021-08-12T17:05:58.448334Z",
     "shell.execute_reply": "2021-08-12T17:05:58.447755Z",
     "shell.execute_reply.started": "2021-08-12T16:57:32.085262Z"
    },
    "papermill": {
     "duration": 0.051134,
     "end_time": "2021-08-12T17:05:58.448473",
     "exception": false,
     "start_time": "2021-08-12T17:05:58.397339",
     "status": "completed"
    },
    "tags": []
   },
   "outputs": [
    {
     "name": "stdout",
     "output_type": "stream",
     "text": [
      "<class 'pandas.core.frame.DataFrame'>\n",
      "RangeIndex: 891 entries, 0 to 890\n",
      "Data columns (total 12 columns):\n",
      " #   Column       Non-Null Count  Dtype  \n",
      "---  ------       --------------  -----  \n",
      " 0   PassengerId  891 non-null    int64  \n",
      " 1   Survived     891 non-null    int64  \n",
      " 2   Pclass       891 non-null    int64  \n",
      " 3   Name         891 non-null    object \n",
      " 4   Sex          891 non-null    object \n",
      " 5   Age          714 non-null    float64\n",
      " 6   SibSp        891 non-null    int64  \n",
      " 7   Parch        891 non-null    int64  \n",
      " 8   Ticket       891 non-null    object \n",
      " 9   Fare         891 non-null    float64\n",
      " 10  Cabin        204 non-null    object \n",
      " 11  Embarked     889 non-null    object \n",
      "dtypes: float64(2), int64(5), object(5)\n",
      "memory usage: 83.7+ KB\n"
     ]
    }
   ],
   "source": [
    "train.info()"
   ]
  },
  {
   "cell_type": "markdown",
   "id": "3ac23a58",
   "metadata": {
    "papermill": {
     "duration": 0.027456,
     "end_time": "2021-08-12T17:05:58.503868",
     "exception": false,
     "start_time": "2021-08-12T17:05:58.476412",
     "status": "completed"
    },
    "tags": []
   },
   "source": [
    "# **Cleaning Data**"
   ]
  },
  {
   "cell_type": "code",
   "execution_count": 6,
   "id": "557cece2",
   "metadata": {
    "execution": {
     "iopub.execute_input": "2021-08-12T17:05:58.569362Z",
     "iopub.status.busy": "2021-08-12T17:05:58.568705Z",
     "iopub.status.idle": "2021-08-12T17:05:58.572647Z",
     "shell.execute_reply": "2021-08-12T17:05:58.572092Z",
     "shell.execute_reply.started": "2021-08-12T16:57:32.100563Z"
    },
    "papermill": {
     "duration": 0.039977,
     "end_time": "2021-08-12T17:05:58.572796",
     "exception": false,
     "start_time": "2021-08-12T17:05:58.532819",
     "status": "completed"
    },
    "tags": []
   },
   "outputs": [
    {
     "data": {
      "text/plain": [
       "PassengerId      0\n",
       "Survived         0\n",
       "Pclass           0\n",
       "Name             0\n",
       "Sex              0\n",
       "Age            177\n",
       "SibSp            0\n",
       "Parch            0\n",
       "Ticket           0\n",
       "Fare             0\n",
       "Cabin          687\n",
       "Embarked         2\n",
       "dtype: int64"
      ]
     },
     "execution_count": 6,
     "metadata": {},
     "output_type": "execute_result"
    }
   ],
   "source": [
    "train.isnull().sum()"
   ]
  },
  {
   "cell_type": "code",
   "execution_count": 7,
   "id": "3d1b4565",
   "metadata": {
    "execution": {
     "iopub.execute_input": "2021-08-12T17:05:58.636443Z",
     "iopub.status.busy": "2021-08-12T17:05:58.635742Z",
     "iopub.status.idle": "2021-08-12T17:05:59.118820Z",
     "shell.execute_reply": "2021-08-12T17:05:59.117742Z",
     "shell.execute_reply.started": "2021-08-12T16:57:32.108663Z"
    },
    "papermill": {
     "duration": 0.518021,
     "end_time": "2021-08-12T17:05:59.118976",
     "exception": false,
     "start_time": "2021-08-12T17:05:58.600955",
     "status": "completed"
    },
    "tags": []
   },
   "outputs": [
    {
     "data": {
      "text/plain": [
       "<AxesSubplot:>"
      ]
     },
     "execution_count": 7,
     "metadata": {},
     "output_type": "execute_result"
    },
    {
     "data": {
      "image/png": "[encoded data removed]",
      "text/plain": [
       "<Figure size 432x288 with 2 Axes>"
      ]
     },
     "metadata": {},
     "output_type": "display_data"
    }
   ],
   "source": [
    "sns.set_theme(style='darkgrid')\n",
    "sns.heatmap(train.isnull(), )"
   ]
  },
  {
   "cell_type": "code",
   "execution_count": 8,
   "id": "749a8bc0",
   "metadata": {
    "execution": {
     "iopub.execute_input": "2021-08-12T17:05:59.183994Z",
     "iopub.status.busy": "2021-08-12T17:05:59.183360Z",
     "iopub.status.idle": "2021-08-12T17:05:59.185490Z",
     "shell.execute_reply": "2021-08-12T17:05:59.185931Z",
     "shell.execute_reply.started": "2021-08-12T16:57:32.501323Z"
    },
    "papermill": {
     "duration": 0.037433,
     "end_time": "2021-08-12T17:05:59.186106",
     "exception": false,
     "start_time": "2021-08-12T17:05:59.148673",
     "status": "completed"
    },
    "tags": []
   },
   "outputs": [],
   "source": [
    "train.drop(['Name', 'Cabin', 'Ticket', 'Embarked'], axis=1, inplace=True)"
   ]
  },
  {
   "cell_type": "code",
   "execution_count": 9,
   "id": "d4fd02e5",
   "metadata": {
    "execution": {
     "iopub.execute_input": "2021-08-12T17:05:59.248625Z",
     "iopub.status.busy": "2021-08-12T17:05:59.247680Z",
     "iopub.status.idle": "2021-08-12T17:05:59.261278Z",
     "shell.execute_reply": "2021-08-12T17:05:59.261724Z",
     "shell.execute_reply.started": "2021-08-12T16:57:32.508528Z"
    },
    "papermill": {
     "duration": 0.046331,
     "end_time": "2021-08-12T17:05:59.261889",
     "exception": false,
     "start_time": "2021-08-12T17:05:59.215558",
     "status": "completed"
    },
    "tags": []
   },
   "outputs": [
    {
     "data": {
      "text/html": [
       "<div>\n",
       "<style scoped>\n",
       "    .dataframe tbody tr th:only-of-type {\n",
       "        vertical-align: middle;\n",
       "    }\n",
       "\n",
       "    .dataframe tbody tr th {\n",
       "        vertical-align: top;\n",
       "    }\n",
       "\n",
       "    .dataframe thead th {\n",
       "        text-align: right;\n",
       "    }\n",
       "</style>\n",
       "<table border=\"1\" class=\"dataframe\">\n",
       "  <thead>\n",
       "    <tr style=\"text-align: right;\">\n",
       "      <th></th>\n",
       "      <th>PassengerId</th>\n",
       "      <th>Survived</th>\n",
       "      <th>Pclass</th>\n",
       "      <th>Sex</th>\n",
       "      <th>Age</th>\n",
       "      <th>SibSp</th>\n",
       "      <th>Parch</th>\n",
       "      <th>Fare</th>\n",
       "    </tr>\n",
       "  </thead>\n",
       "  <tbody>\n",
       "    <tr>\n",
       "      <th>0</th>\n",
       "      <td>1</td>\n",
       "      <td>0</td>\n",
       "      <td>3</td>\n",
       "      <td>male</td>\n",
       "      <td>22.0</td>\n",
       "      <td>1</td>\n",
       "      <td>0</td>\n",
       "      <td>7.2500</td>\n",
       "    </tr>\n",
       "    <tr>\n",
       "      <th>1</th>\n",
       "      <td>2</td>\n",
       "      <td>1</td>\n",
       "      <td>1</td>\n",
       "      <td>female</td>\n",
       "      <td>38.0</td>\n",
       "      <td>1</td>\n",
       "      <td>0</td>\n",
       "      <td>71.2833</td>\n",
       "    </tr>\n",
       "    <tr>\n",
       "      <th>2</th>\n",
       "      <td>3</td>\n",
       "      <td>1</td>\n",
       "      <td>3</td>\n",
       "      <td>female</td>\n",
       "      <td>26.0</td>\n",
       "      <td>0</td>\n",
       "      <td>0</td>\n",
       "      <td>7.9250</td>\n",
       "    </tr>\n",
       "    <tr>\n",
       "      <th>3</th>\n",
       "      <td>4</td>\n",
       "      <td>1</td>\n",
       "      <td>1</td>\n",
       "      <td>female</td>\n",
       "      <td>35.0</td>\n",
       "      <td>1</td>\n",
       "      <td>0</td>\n",
       "      <td>53.1000</td>\n",
       "    </tr>\n",
       "    <tr>\n",
       "      <th>4</th>\n",
       "      <td>5</td>\n",
       "      <td>0</td>\n",
       "      <td>3</td>\n",
       "      <td>male</td>\n",
       "      <td>35.0</td>\n",
       "      <td>0</td>\n",
       "      <td>0</td>\n",
       "      <td>8.0500</td>\n",
       "    </tr>\n",
       "  </tbody>\n",
       "</table>\n",
       "</div>"
      ],
      "text/plain": [
       "   PassengerId  Survived  Pclass     Sex   Age  SibSp  Parch     Fare\n",
       "0            1         0       3    male  22.0      1      0   7.2500\n",
       "1            2         1       1  female  38.0      1      0  71.2833\n",
       "2            3         1       3  female  26.0      0      0   7.9250\n",
       "3            4         1       1  female  35.0      1      0  53.1000\n",
       "4            5         0       3    male  35.0      0      0   8.0500"
      ]
     },
     "execution_count": 9,
     "metadata": {},
     "output_type": "execute_result"
    }
   ],
   "source": [
    "train.head()"
   ]
  },
  {
   "cell_type": "code",
   "execution_count": 10,
   "id": "9c32ac33",
   "metadata": {
    "execution": {
     "iopub.execute_input": "2021-08-12T17:05:59.324868Z",
     "iopub.status.busy": "2021-08-12T17:05:59.323912Z",
     "iopub.status.idle": "2021-08-12T17:05:59.356986Z",
     "shell.execute_reply": "2021-08-12T17:05:59.357499Z",
     "shell.execute_reply.started": "2021-08-12T16:57:32.532704Z"
    },
    "papermill": {
     "duration": 0.06622,
     "end_time": "2021-08-12T17:05:59.357683",
     "exception": false,
     "start_time": "2021-08-12T17:05:59.291463",
     "status": "completed"
    },
    "tags": []
   },
   "outputs": [],
   "source": [
    "def impute_age(cols):\n",
    "    Age = cols[0]\n",
    "    Pclass = cols[1]\n",
    "    \n",
    "    if pd.isnull(Age):\n",
    "\n",
    "        if Pclass == 1:\n",
    "            return 37\n",
    "\n",
    "        elif Pclass == 2:\n",
    "            return 29\n",
    "\n",
    "        else:\n",
    "            return 24\n",
    "\n",
    "    else:\n",
    "        return Age\n",
    "    \n",
    "    \n",
    "train['Age'] = train[['Age','Pclass']].apply(impute_age,axis=1)\n",
    "test['Age'] = test[['Age','Pclass']].apply(impute_age,axis=1)"
   ]
  },
  {
   "cell_type": "code",
   "execution_count": 11,
   "id": "9dc98327",
   "metadata": {
    "execution": {
     "iopub.execute_input": "2021-08-12T17:05:59.425437Z",
     "iopub.status.busy": "2021-08-12T17:05:59.422754Z",
     "iopub.status.idle": "2021-08-12T17:05:59.429744Z",
     "shell.execute_reply": "2021-08-12T17:05:59.429086Z",
     "shell.execute_reply.started": "2021-08-12T16:57:32.558081Z"
    },
    "papermill": {
     "duration": 0.042296,
     "end_time": "2021-08-12T17:05:59.429885",
     "exception": false,
     "start_time": "2021-08-12T17:05:59.387589",
     "status": "completed"
    },
    "tags": []
   },
   "outputs": [
    {
     "data": {
      "text/plain": [
       "PassengerId    0\n",
       "Survived       0\n",
       "Pclass         0\n",
       "Sex            0\n",
       "Age            0\n",
       "SibSp          0\n",
       "Parch          0\n",
       "Fare           0\n",
       "dtype: int64"
      ]
     },
     "execution_count": 11,
     "metadata": {},
     "output_type": "execute_result"
    }
   ],
   "source": [
    "train.isnull().sum()"
   ]
  },
  {
   "cell_type": "markdown",
   "id": "f1746f21",
   "metadata": {
    "papermill": {
     "duration": 0.029836,
     "end_time": "2021-08-12T17:05:59.490320",
     "exception": false,
     "start_time": "2021-08-12T17:05:59.460484",
     "status": "completed"
    },
    "tags": []
   },
   "source": [
    "# **EDA**"
   ]
  },
  {
   "cell_type": "code",
   "execution_count": 12,
   "id": "b4ef1a48",
   "metadata": {
    "execution": {
     "iopub.execute_input": "2021-08-12T17:05:59.556937Z",
     "iopub.status.busy": "2021-08-12T17:05:59.556130Z",
     "iopub.status.idle": "2021-08-12T17:05:59.560814Z",
     "shell.execute_reply": "2021-08-12T17:05:59.560177Z",
     "shell.execute_reply.started": "2021-08-12T16:57:32.568031Z"
    },
    "papermill": {
     "duration": 0.040155,
     "end_time": "2021-08-12T17:05:59.560952",
     "exception": false,
     "start_time": "2021-08-12T17:05:59.520797",
     "status": "completed"
    },
    "tags": []
   },
   "outputs": [
    {
     "data": {
      "text/plain": [
       "Index(['PassengerId', 'Survived', 'Pclass', 'Sex', 'Age', 'SibSp', 'Parch',\n",
       "       'Fare'],\n",
       "      dtype='object')"
      ]
     },
     "execution_count": 12,
     "metadata": {},
     "output_type": "execute_result"
    }
   ],
   "source": [
    "train.columns"
   ]
  },
  {
   "cell_type": "code",
   "execution_count": 13,
   "id": "32fbe74d",
   "metadata": {
    "execution": {
     "iopub.execute_input": "2021-08-12T17:05:59.637291Z",
     "iopub.status.busy": "2021-08-12T17:05:59.636388Z",
     "iopub.status.idle": "2021-08-12T17:05:59.640017Z",
     "shell.execute_reply": "2021-08-12T17:05:59.640731Z",
     "shell.execute_reply.started": "2021-08-12T16:57:32.579699Z"
    },
    "papermill": {
     "duration": 0.049428,
     "end_time": "2021-08-12T17:05:59.640968",
     "exception": false,
     "start_time": "2021-08-12T17:05:59.591540",
     "status": "completed"
    },
    "tags": []
   },
   "outputs": [
    {
     "name": "stdout",
     "output_type": "stream",
     "text": [
      "<class 'pandas.core.frame.DataFrame'>\n",
      "RangeIndex: 891 entries, 0 to 890\n",
      "Data columns (total 8 columns):\n",
      " #   Column       Non-Null Count  Dtype  \n",
      "---  ------       --------------  -----  \n",
      " 0   PassengerId  891 non-null    int64  \n",
      " 1   Survived     891 non-null    int64  \n",
      " 2   Pclass       891 non-null    int64  \n",
      " 3   Sex          891 non-null    object \n",
      " 4   Age          891 non-null    float64\n",
      " 5   SibSp        891 non-null    int64  \n",
      " 6   Parch        891 non-null    int64  \n",
      " 7   Fare         891 non-null    float64\n",
      "dtypes: float64(2), int64(5), object(1)\n",
      "memory usage: 55.8+ KB\n"
     ]
    }
   ],
   "source": [
    "train.info()"
   ]
  },
  {
   "cell_type": "code",
   "execution_count": 14,
   "id": "66d3125f",
   "metadata": {
    "execution": {
     "iopub.execute_input": "2021-08-12T17:05:59.713814Z",
     "iopub.status.busy": "2021-08-12T17:05:59.713131Z",
     "iopub.status.idle": "2021-08-12T17:05:59.863680Z",
     "shell.execute_reply": "2021-08-12T17:05:59.862680Z",
     "shell.execute_reply.started": "2021-08-12T16:57:32.600128Z"
    },
    "papermill": {
     "duration": 0.190093,
     "end_time": "2021-08-12T17:05:59.863833",
     "exception": false,
     "start_time": "2021-08-12T17:05:59.673740",
     "status": "completed"
    },
    "tags": []
   },
   "outputs": [
    {
     "data": {
      "text/plain": [
       "<AxesSubplot:xlabel='Sex', ylabel='count'>"
      ]
     },
     "execution_count": 14,
     "metadata": {},
     "output_type": "execute_result"
    },
    {
     "data": {
      "image/png": "[encoded data removed]",
      "text/plain": [
       "<Figure size 432x288 with 1 Axes>"
      ]
     },
     "metadata": {},
     "output_type": "display_data"
    }
   ],
   "source": [
    "sns.countplot(x='Sex',\n",
    "    hue=None,\n",
    "    data=train,\n",
    "    color='r')"
   ]
  },
  {
   "cell_type": "code",
   "execution_count": 15,
   "id": "87fbdfcd",
   "metadata": {
    "execution": {
     "iopub.execute_input": "2021-08-12T17:05:59.937625Z",
     "iopub.status.busy": "2021-08-12T17:05:59.936949Z",
     "iopub.status.idle": "2021-08-12T17:06:00.139725Z",
     "shell.execute_reply": "2021-08-12T17:06:00.140206Z",
     "shell.execute_reply.started": "2021-08-12T16:57:32.726096Z"
    },
    "papermill": {
     "duration": 0.244099,
     "end_time": "2021-08-12T17:06:00.140399",
     "exception": false,
     "start_time": "2021-08-12T17:05:59.896300",
     "status": "completed"
    },
    "tags": []
   },
   "outputs": [
    {
     "data": {
      "text/plain": [
       "Text(0.5, 1.0, 'People who Survived Based on Gender')"
      ]
     },
     "execution_count": 15,
     "metadata": {},
     "output_type": "execute_result"
    },
    {
     "data": {
      "image/png": "[encoded data removed]",
      "text/plain": [
       "<Figure size 720x360 with 1 Axes>"
      ]
     },
     "metadata": {},
     "output_type": "display_data"
    }
   ],
   "source": [
    "plt.figure(figsize=(10,5))\n",
    "\n",
    "sns.countplot(x='Sex',\n",
    "    data=train,\n",
    "    color='b',\n",
    "    hue='Survived',)\n",
    "\n",
    "plt.title(\"People who Survived Based on Gender\")"
   ]
  },
  {
   "cell_type": "code",
   "execution_count": 16,
   "id": "f4a5edba",
   "metadata": {
    "execution": {
     "iopub.execute_input": "2021-08-12T17:06:00.214723Z",
     "iopub.status.busy": "2021-08-12T17:06:00.213990Z",
     "iopub.status.idle": "2021-08-12T17:06:00.421070Z",
     "shell.execute_reply": "2021-08-12T17:06:00.420432Z",
     "shell.execute_reply.started": "2021-08-12T16:57:32.890046Z"
    },
    "papermill": {
     "duration": 0.247413,
     "end_time": "2021-08-12T17:06:00.421210",
     "exception": false,
     "start_time": "2021-08-12T17:06:00.173797",
     "status": "completed"
    },
    "tags": []
   },
   "outputs": [
    {
     "data": {
      "text/plain": [
       "<AxesSubplot:xlabel='Survived', ylabel='count'>"
      ]
     },
     "execution_count": 16,
     "metadata": {},
     "output_type": "execute_result"
    },
    {
     "data": {
      "image/png": "[encoded data removed]",
      "text/plain": [
       "<Figure size 720x360 with 1 Axes>"
      ]
     },
     "metadata": {},
     "output_type": "display_data"
    }
   ],
   "source": [
    "plt.figure(figsize=(10,5))\n",
    "\n",
    "sns.countplot(x='Survived',hue='Pclass',data=train,palette='winter')"
   ]
  },
  {
   "cell_type": "code",
   "execution_count": 17,
   "id": "39766e70",
   "metadata": {
    "execution": {
     "iopub.execute_input": "2021-08-12T17:06:00.633865Z",
     "iopub.status.busy": "2021-08-12T17:06:00.621884Z",
     "iopub.status.idle": "2021-08-12T17:06:01.167472Z",
     "shell.execute_reply": "2021-08-12T17:06:01.166848Z",
     "shell.execute_reply.started": "2021-08-12T16:57:33.068080Z"
    },
    "papermill": {
     "duration": 0.712017,
     "end_time": "2021-08-12T17:06:01.167620",
     "exception": false,
     "start_time": "2021-08-12T17:06:00.455603",
     "status": "completed"
    },
    "tags": []
   },
   "outputs": [
    {
     "data": {
      "text/plain": [
       "<Figure size 864x504 with 0 Axes>"
      ]
     },
     "metadata": {},
     "output_type": "display_data"
    },
    {
     "data": {
      "image/png": "[encoded data removed]",
      "text/plain": [
       "<Figure size 1008x504 with 1 Axes>"
      ]
     },
     "metadata": {},
     "output_type": "display_data"
    }
   ],
   "source": [
    "plt.figure(figsize=(12,7))\n",
    "sns.displot(train['Fare'], bins=30,color='r',height=7,\n",
    "    aspect=2, kde=True)\n",
    "plt.show()"
   ]
  },
  {
   "cell_type": "code",
   "execution_count": 18,
   "id": "7c8c23a8",
   "metadata": {
    "execution": {
     "iopub.execute_input": "2021-08-12T17:06:01.247797Z",
     "iopub.status.busy": "2021-08-12T17:06:01.246812Z",
     "iopub.status.idle": "2021-08-12T17:06:01.475058Z",
     "shell.execute_reply": "2021-08-12T17:06:01.474463Z",
     "shell.execute_reply.started": "2021-08-12T16:57:33.476236Z"
    },
    "papermill": {
     "duration": 0.271805,
     "end_time": "2021-08-12T17:06:01.475204",
     "exception": false,
     "start_time": "2021-08-12T17:06:01.203399",
     "status": "completed"
    },
    "tags": []
   },
   "outputs": [
    {
     "data": {
      "text/plain": [
       "Text(0.5, 1.0, 'Boxplot of Passenger Ages Based on Class')"
      ]
     },
     "execution_count": 18,
     "metadata": {},
     "output_type": "execute_result"
    },
    {
     "data": {
      "image/png": "[encoded data removed]",
      "text/plain": [
       "<Figure size 864x504 with 1 Axes>"
      ]
     },
     "metadata": {},
     "output_type": "display_data"
    }
   ],
   "source": [
    "plt.figure(figsize=(12,7))\n",
    "\n",
    "sns.boxplot(x='Pclass',\n",
    "    y='Age',\n",
    "    hue=None,\n",
    "    data=train,\n",
    "    )\n",
    "plt.title(\"Boxplot of Passenger Ages Based on Class\")"
   ]
  },
  {
   "cell_type": "code",
   "execution_count": 19,
   "id": "62e2254d",
   "metadata": {
    "execution": {
     "iopub.execute_input": "2021-08-12T17:06:01.553415Z",
     "iopub.status.busy": "2021-08-12T17:06:01.552731Z",
     "iopub.status.idle": "2021-08-12T17:06:01.773571Z",
     "shell.execute_reply": "2021-08-12T17:06:01.772968Z",
     "shell.execute_reply.started": "2021-08-12T16:57:33.685083Z"
    },
    "papermill": {
     "duration": 0.260419,
     "end_time": "2021-08-12T17:06:01.773712",
     "exception": false,
     "start_time": "2021-08-12T17:06:01.513293",
     "status": "completed"
    },
    "tags": []
   },
   "outputs": [
    {
     "data": {
      "text/plain": [
       "Text(0.5, 1.0, 'Number of Siblings and Spouses on Board')"
      ]
     },
     "execution_count": 19,
     "metadata": {},
     "output_type": "execute_result"
    },
    {
     "data": {
      "image/png": "[encoded data removed]",
      "text/plain": [
       "<Figure size 720x360 with 1 Axes>"
      ]
     },
     "metadata": {},
     "output_type": "display_data"
    }
   ],
   "source": [
    "plt.figure(figsize=(10,5))\n",
    "\n",
    "sns.countplot(x='SibSp',data=train,palette='summer')\n",
    "plt.title(\"Number of Siblings and Spouses on Board\")"
   ]
  },
  {
   "cell_type": "code",
   "execution_count": 20,
   "id": "e4a375c4",
   "metadata": {
    "execution": {
     "iopub.execute_input": "2021-08-12T17:06:01.858336Z",
     "iopub.status.busy": "2021-08-12T17:06:01.857188Z",
     "iopub.status.idle": "2021-08-12T17:06:02.069928Z",
     "shell.execute_reply": "2021-08-12T17:06:02.069289Z",
     "shell.execute_reply.started": "2021-08-12T16:57:33.879680Z"
    },
    "papermill": {
     "duration": 0.25802,
     "end_time": "2021-08-12T17:06:02.070080",
     "exception": false,
     "start_time": "2021-08-12T17:06:01.812060",
     "status": "completed"
    },
    "tags": []
   },
   "outputs": [
    {
     "data": {
      "text/plain": [
       "<AxesSubplot:xlabel='Parch', ylabel='count'>"
      ]
     },
     "execution_count": 20,
     "metadata": {},
     "output_type": "execute_result"
    },
    {
     "data": {
      "image/png": "[encoded data removed]",
      "text/plain": [
       "<Figure size 720x360 with 1 Axes>"
      ]
     },
     "metadata": {},
     "output_type": "display_data"
    }
   ],
   "source": [
    "plt.figure(figsize=(10,5))\n",
    "\n",
    "sns.countplot(x='Parch',data=train,palette='winter')"
   ]
  },
  {
   "cell_type": "markdown",
   "id": "0b145207",
   "metadata": {
    "papermill": {
     "duration": 0.042253,
     "end_time": "2021-08-12T17:06:02.152916",
     "exception": false,
     "start_time": "2021-08-12T17:06:02.110663",
     "status": "completed"
    },
    "tags": []
   },
   "source": [
    "# **Training Data**"
   ]
  },
  {
   "cell_type": "code",
   "execution_count": 21,
   "id": "37429321",
   "metadata": {
    "execution": {
     "iopub.execute_input": "2021-08-12T17:06:02.252696Z",
     "iopub.status.busy": "2021-08-12T17:06:02.245211Z",
     "iopub.status.idle": "2021-08-12T17:06:02.257219Z",
     "shell.execute_reply": "2021-08-12T17:06:02.256740Z",
     "shell.execute_reply.started": "2021-08-12T16:57:34.071804Z"
    },
    "papermill": {
     "duration": 0.064884,
     "end_time": "2021-08-12T17:06:02.257374",
     "exception": false,
     "start_time": "2021-08-12T17:06:02.192490",
     "status": "completed"
    },
    "tags": []
   },
   "outputs": [
    {
     "data": {
      "text/html": [
       "<div>\n",
       "<style scoped>\n",
       "    .dataframe tbody tr th:only-of-type {\n",
       "        vertical-align: middle;\n",
       "    }\n",
       "\n",
       "    .dataframe tbody tr th {\n",
       "        vertical-align: top;\n",
       "    }\n",
       "\n",
       "    .dataframe thead th {\n",
       "        text-align: right;\n",
       "    }\n",
       "</style>\n",
       "<table border=\"1\" class=\"dataframe\">\n",
       "  <thead>\n",
       "    <tr style=\"text-align: right;\">\n",
       "      <th></th>\n",
       "      <th>PassengerId</th>\n",
       "      <th>Survived</th>\n",
       "      <th>Pclass</th>\n",
       "      <th>Sex</th>\n",
       "      <th>Age</th>\n",
       "      <th>SibSp</th>\n",
       "      <th>Parch</th>\n",
       "      <th>Fare</th>\n",
       "    </tr>\n",
       "  </thead>\n",
       "  <tbody>\n",
       "    <tr>\n",
       "      <th>0</th>\n",
       "      <td>1</td>\n",
       "      <td>0</td>\n",
       "      <td>3</td>\n",
       "      <td>1</td>\n",
       "      <td>22.0</td>\n",
       "      <td>1</td>\n",
       "      <td>0</td>\n",
       "      <td>7.2500</td>\n",
       "    </tr>\n",
       "    <tr>\n",
       "      <th>1</th>\n",
       "      <td>2</td>\n",
       "      <td>1</td>\n",
       "      <td>1</td>\n",
       "      <td>0</td>\n",
       "      <td>38.0</td>\n",
       "      <td>1</td>\n",
       "      <td>0</td>\n",
       "      <td>71.2833</td>\n",
       "    </tr>\n",
       "    <tr>\n",
       "      <th>2</th>\n",
       "      <td>3</td>\n",
       "      <td>1</td>\n",
       "      <td>3</td>\n",
       "      <td>0</td>\n",
       "      <td>26.0</td>\n",
       "      <td>0</td>\n",
       "      <td>0</td>\n",
       "      <td>7.9250</td>\n",
       "    </tr>\n",
       "    <tr>\n",
       "      <th>3</th>\n",
       "      <td>4</td>\n",
       "      <td>1</td>\n",
       "      <td>1</td>\n",
       "      <td>0</td>\n",
       "      <td>35.0</td>\n",
       "      <td>1</td>\n",
       "      <td>0</td>\n",
       "      <td>53.1000</td>\n",
       "    </tr>\n",
       "    <tr>\n",
       "      <th>4</th>\n",
       "      <td>5</td>\n",
       "      <td>0</td>\n",
       "      <td>3</td>\n",
       "      <td>1</td>\n",
       "      <td>35.0</td>\n",
       "      <td>0</td>\n",
       "      <td>0</td>\n",
       "      <td>8.0500</td>\n",
       "    </tr>\n",
       "    <tr>\n",
       "      <th>...</th>\n",
       "      <td>...</td>\n",
       "      <td>...</td>\n",
       "      <td>...</td>\n",
       "      <td>...</td>\n",
       "      <td>...</td>\n",
       "      <td>...</td>\n",
       "      <td>...</td>\n",
       "      <td>...</td>\n",
       "    </tr>\n",
       "    <tr>\n",
       "      <th>886</th>\n",
       "      <td>887</td>\n",
       "      <td>0</td>\n",
       "      <td>2</td>\n",
       "      <td>1</td>\n",
       "      <td>27.0</td>\n",
       "      <td>0</td>\n",
       "      <td>0</td>\n",
       "      <td>13.0000</td>\n",
       "    </tr>\n",
       "    <tr>\n",
       "      <th>887</th>\n",
       "      <td>888</td>\n",
       "      <td>1</td>\n",
       "      <td>1</td>\n",
       "      <td>0</td>\n",
       "      <td>19.0</td>\n",
       "      <td>0</td>\n",
       "      <td>0</td>\n",
       "      <td>30.0000</td>\n",
       "    </tr>\n",
       "    <tr>\n",
       "      <th>888</th>\n",
       "      <td>889</td>\n",
       "      <td>0</td>\n",
       "      <td>3</td>\n",
       "      <td>0</td>\n",
       "      <td>24.0</td>\n",
       "      <td>1</td>\n",
       "      <td>2</td>\n",
       "      <td>23.4500</td>\n",
       "    </tr>\n",
       "    <tr>\n",
       "      <th>889</th>\n",
       "      <td>890</td>\n",
       "      <td>1</td>\n",
       "      <td>1</td>\n",
       "      <td>1</td>\n",
       "      <td>26.0</td>\n",
       "      <td>0</td>\n",
       "      <td>0</td>\n",
       "      <td>30.0000</td>\n",
       "    </tr>\n",
       "    <tr>\n",
       "      <th>890</th>\n",
       "      <td>891</td>\n",
       "      <td>0</td>\n",
       "      <td>3</td>\n",
       "      <td>1</td>\n",
       "      <td>32.0</td>\n",
       "      <td>0</td>\n",
       "      <td>0</td>\n",
       "      <td>7.7500</td>\n",
       "    </tr>\n",
       "  </tbody>\n",
       "</table>\n",
       "<p>891 rows × 8 columns</p>\n",
       "</div>"
      ],
      "text/plain": [
       "     PassengerId  Survived  Pclass  Sex   Age  SibSp  Parch     Fare\n",
       "0              1         0       3    1  22.0      1      0   7.2500\n",
       "1              2         1       1    0  38.0      1      0  71.2833\n",
       "2              3         1       3    0  26.0      0      0   7.9250\n",
       "3              4         1       1    0  35.0      1      0  53.1000\n",
       "4              5         0       3    1  35.0      0      0   8.0500\n",
       "..           ...       ...     ...  ...   ...    ...    ...      ...\n",
       "886          887         0       2    1  27.0      0      0  13.0000\n",
       "887          888         1       1    0  19.0      0      0  30.0000\n",
       "888          889         0       3    0  24.0      1      2  23.4500\n",
       "889          890         1       1    1  26.0      0      0  30.0000\n",
       "890          891         0       3    1  32.0      0      0   7.7500\n",
       "\n",
       "[891 rows x 8 columns]"
      ]
     },
     "execution_count": 21,
     "metadata": {},
     "output_type": "execute_result"
    }
   ],
   "source": [
    "#changing sex column into binary data\n",
    "lb = LabelEncoder()\n",
    "train['Sex'] = lb.fit_transform(train['Sex'])\n",
    "train"
   ]
  },
  {
   "cell_type": "code",
   "execution_count": 22,
   "id": "99a80791",
   "metadata": {
    "execution": {
     "iopub.execute_input": "2021-08-12T17:06:02.357154Z",
     "iopub.status.busy": "2021-08-12T17:06:02.343311Z",
     "iopub.status.idle": "2021-08-12T17:06:02.361768Z",
     "shell.execute_reply": "2021-08-12T17:06:02.361218Z",
     "shell.execute_reply.started": "2021-08-12T16:57:34.092410Z"
    },
    "papermill": {
     "duration": 0.064341,
     "end_time": "2021-08-12T17:06:02.361920",
     "exception": false,
     "start_time": "2021-08-12T17:06:02.297579",
     "status": "completed"
    },
    "tags": []
   },
   "outputs": [
    {
     "data": {
      "text/html": [
       "<div>\n",
       "<style scoped>\n",
       "    .dataframe tbody tr th:only-of-type {\n",
       "        vertical-align: middle;\n",
       "    }\n",
       "\n",
       "    .dataframe tbody tr th {\n",
       "        vertical-align: top;\n",
       "    }\n",
       "\n",
       "    .dataframe thead th {\n",
       "        text-align: right;\n",
       "    }\n",
       "</style>\n",
       "<table border=\"1\" class=\"dataframe\">\n",
       "  <thead>\n",
       "    <tr style=\"text-align: right;\">\n",
       "      <th></th>\n",
       "      <th>PassengerId</th>\n",
       "      <th>Pclass</th>\n",
       "      <th>Sex</th>\n",
       "      <th>Age</th>\n",
       "      <th>SibSp</th>\n",
       "      <th>Parch</th>\n",
       "      <th>Fare</th>\n",
       "    </tr>\n",
       "  </thead>\n",
       "  <tbody>\n",
       "    <tr>\n",
       "      <th>0</th>\n",
       "      <td>892</td>\n",
       "      <td>3</td>\n",
       "      <td>1</td>\n",
       "      <td>34.5</td>\n",
       "      <td>0</td>\n",
       "      <td>0</td>\n",
       "      <td>7.8292</td>\n",
       "    </tr>\n",
       "    <tr>\n",
       "      <th>1</th>\n",
       "      <td>893</td>\n",
       "      <td>3</td>\n",
       "      <td>0</td>\n",
       "      <td>47.0</td>\n",
       "      <td>1</td>\n",
       "      <td>0</td>\n",
       "      <td>7.0000</td>\n",
       "    </tr>\n",
       "    <tr>\n",
       "      <th>2</th>\n",
       "      <td>894</td>\n",
       "      <td>2</td>\n",
       "      <td>1</td>\n",
       "      <td>62.0</td>\n",
       "      <td>0</td>\n",
       "      <td>0</td>\n",
       "      <td>9.6875</td>\n",
       "    </tr>\n",
       "    <tr>\n",
       "      <th>3</th>\n",
       "      <td>895</td>\n",
       "      <td>3</td>\n",
       "      <td>1</td>\n",
       "      <td>27.0</td>\n",
       "      <td>0</td>\n",
       "      <td>0</td>\n",
       "      <td>8.6625</td>\n",
       "    </tr>\n",
       "    <tr>\n",
       "      <th>4</th>\n",
       "      <td>896</td>\n",
       "      <td>3</td>\n",
       "      <td>0</td>\n",
       "      <td>22.0</td>\n",
       "      <td>1</td>\n",
       "      <td>1</td>\n",
       "      <td>12.2875</td>\n",
       "    </tr>\n",
       "    <tr>\n",
       "      <th>...</th>\n",
       "      <td>...</td>\n",
       "      <td>...</td>\n",
       "      <td>...</td>\n",
       "      <td>...</td>\n",
       "      <td>...</td>\n",
       "      <td>...</td>\n",
       "      <td>...</td>\n",
       "    </tr>\n",
       "    <tr>\n",
       "      <th>413</th>\n",
       "      <td>1305</td>\n",
       "      <td>3</td>\n",
       "      <td>1</td>\n",
       "      <td>24.0</td>\n",
       "      <td>0</td>\n",
       "      <td>0</td>\n",
       "      <td>8.0500</td>\n",
       "    </tr>\n",
       "    <tr>\n",
       "      <th>414</th>\n",
       "      <td>1306</td>\n",
       "      <td>1</td>\n",
       "      <td>0</td>\n",
       "      <td>39.0</td>\n",
       "      <td>0</td>\n",
       "      <td>0</td>\n",
       "      <td>108.9000</td>\n",
       "    </tr>\n",
       "    <tr>\n",
       "      <th>415</th>\n",
       "      <td>1307</td>\n",
       "      <td>3</td>\n",
       "      <td>1</td>\n",
       "      <td>38.5</td>\n",
       "      <td>0</td>\n",
       "      <td>0</td>\n",
       "      <td>7.2500</td>\n",
       "    </tr>\n",
       "    <tr>\n",
       "      <th>416</th>\n",
       "      <td>1308</td>\n",
       "      <td>3</td>\n",
       "      <td>1</td>\n",
       "      <td>24.0</td>\n",
       "      <td>0</td>\n",
       "      <td>0</td>\n",
       "      <td>8.0500</td>\n",
       "    </tr>\n",
       "    <tr>\n",
       "      <th>417</th>\n",
       "      <td>1309</td>\n",
       "      <td>3</td>\n",
       "      <td>1</td>\n",
       "      <td>24.0</td>\n",
       "      <td>1</td>\n",
       "      <td>1</td>\n",
       "      <td>22.3583</td>\n",
       "    </tr>\n",
       "  </tbody>\n",
       "</table>\n",
       "<p>418 rows × 7 columns</p>\n",
       "</div>"
      ],
      "text/plain": [
       "     PassengerId  Pclass  Sex   Age  SibSp  Parch      Fare\n",
       "0            892       3    1  34.5      0      0    7.8292\n",
       "1            893       3    0  47.0      1      0    7.0000\n",
       "2            894       2    1  62.0      0      0    9.6875\n",
       "3            895       3    1  27.0      0      0    8.6625\n",
       "4            896       3    0  22.0      1      1   12.2875\n",
       "..           ...     ...  ...   ...    ...    ...       ...\n",
       "413         1305       3    1  24.0      0      0    8.0500\n",
       "414         1306       1    0  39.0      0      0  108.9000\n",
       "415         1307       3    1  38.5      0      0    7.2500\n",
       "416         1308       3    1  24.0      0      0    8.0500\n",
       "417         1309       3    1  24.0      1      1   22.3583\n",
       "\n",
       "[418 rows x 7 columns]"
      ]
     },
     "execution_count": 22,
     "metadata": {},
     "output_type": "execute_result"
    }
   ],
   "source": [
    "#changing sex column into binary data\n",
    "lb = LabelEncoder()\n",
    "test['Sex'] = lb.fit_transform(test['Sex'])\n",
    "test"
   ]
  },
  {
   "cell_type": "code",
   "execution_count": 23,
   "id": "d1da9343",
   "metadata": {
    "execution": {
     "iopub.execute_input": "2021-08-12T17:06:02.452788Z",
     "iopub.status.busy": "2021-08-12T17:06:02.452024Z",
     "iopub.status.idle": "2021-08-12T17:06:02.456676Z",
     "shell.execute_reply": "2021-08-12T17:06:02.456081Z",
     "shell.execute_reply.started": "2021-08-12T16:57:34.113750Z"
    },
    "papermill": {
     "duration": 0.054513,
     "end_time": "2021-08-12T17:06:02.456820",
     "exception": false,
     "start_time": "2021-08-12T17:06:02.402307",
     "status": "completed"
    },
    "tags": []
   },
   "outputs": [
    {
     "data": {
      "text/plain": [
       "PassengerId    0\n",
       "Pclass         0\n",
       "Sex            0\n",
       "Age            0\n",
       "SibSp          0\n",
       "Parch          0\n",
       "Fare           0\n",
       "dtype: int64"
      ]
     },
     "execution_count": 23,
     "metadata": {},
     "output_type": "execute_result"
    }
   ],
   "source": [
    "test['Fare'].fillna(test['Fare'].mean(), inplace = True)\n",
    "test.isnull().sum()"
   ]
  },
  {
   "cell_type": "code",
   "execution_count": 24,
   "id": "919b1397",
   "metadata": {
    "execution": {
     "iopub.execute_input": "2021-08-12T17:06:02.545320Z",
     "iopub.status.busy": "2021-08-12T17:06:02.544494Z",
     "iopub.status.idle": "2021-08-12T17:06:02.548647Z",
     "shell.execute_reply": "2021-08-12T17:06:02.548129Z",
     "shell.execute_reply.started": "2021-08-12T16:57:34.125265Z"
    },
    "papermill": {
     "duration": 0.050258,
     "end_time": "2021-08-12T17:06:02.548789",
     "exception": false,
     "start_time": "2021-08-12T17:06:02.498531",
     "status": "completed"
    },
    "tags": []
   },
   "outputs": [
    {
     "data": {
      "text/plain": [
       "Index(['PassengerId', 'Survived', 'Pclass', 'Sex', 'Age', 'SibSp', 'Parch',\n",
       "       'Fare'],\n",
       "      dtype='object')"
      ]
     },
     "execution_count": 24,
     "metadata": {},
     "output_type": "execute_result"
    }
   ],
   "source": [
    "train.columns"
   ]
  },
  {
   "cell_type": "code",
   "execution_count": 25,
   "id": "271cac3f",
   "metadata": {
    "execution": {
     "iopub.execute_input": "2021-08-12T17:06:02.637823Z",
     "iopub.status.busy": "2021-08-12T17:06:02.637151Z",
     "iopub.status.idle": "2021-08-12T17:06:02.640179Z",
     "shell.execute_reply": "2021-08-12T17:06:02.640707Z",
     "shell.execute_reply.started": "2021-08-12T16:57:34.136251Z"
    },
    "papermill": {
     "duration": 0.051265,
     "end_time": "2021-08-12T17:06:02.640877",
     "exception": false,
     "start_time": "2021-08-12T17:06:02.589612",
     "status": "completed"
    },
    "tags": []
   },
   "outputs": [],
   "source": [
    "X = train[['Pclass', 'Sex', 'Age', 'SibSp', 'Parch','Fare']]\n",
    "y = train['Survived']"
   ]
  },
  {
   "cell_type": "code",
   "execution_count": 26,
   "id": "0a7a713a",
   "metadata": {
    "execution": {
     "iopub.execute_input": "2021-08-12T17:06:02.728823Z",
     "iopub.status.busy": "2021-08-12T17:06:02.728076Z",
     "iopub.status.idle": "2021-08-12T17:06:02.733833Z",
     "shell.execute_reply": "2021-08-12T17:06:02.734338Z",
     "shell.execute_reply.started": "2021-08-12T16:57:34.150011Z"
    },
    "papermill": {
     "duration": 0.051504,
     "end_time": "2021-08-12T17:06:02.734523",
     "exception": false,
     "start_time": "2021-08-12T17:06:02.683019",
     "status": "completed"
    },
    "tags": []
   },
   "outputs": [],
   "source": [
    "X_train, X_test, y_train, y_test = train_test_split(X, y, test_size=0.3, random_state=42)"
   ]
  },
  {
   "cell_type": "markdown",
   "id": "48ec7e1a",
   "metadata": {
    "papermill": {
     "duration": 0.041207,
     "end_time": "2021-08-12T17:06:02.817030",
     "exception": false,
     "start_time": "2021-08-12T17:06:02.775823",
     "status": "completed"
    },
    "tags": []
   },
   "source": [
    "# **Logistic Model Predictions and Submission**"
   ]
  },
  {
   "cell_type": "code",
   "execution_count": 27,
   "id": "ac4e8767",
   "metadata": {
    "execution": {
     "iopub.execute_input": "2021-08-12T17:06:02.902330Z",
     "iopub.status.busy": "2021-08-12T17:06:02.901618Z",
     "iopub.status.idle": "2021-08-12T17:06:02.942163Z",
     "shell.execute_reply": "2021-08-12T17:06:02.941577Z",
     "shell.execute_reply.started": "2021-08-12T16:57:34.163553Z"
    },
    "papermill": {
     "duration": 0.084241,
     "end_time": "2021-08-12T17:06:02.942330",
     "exception": false,
     "start_time": "2021-08-12T17:06:02.858089",
     "status": "completed"
    },
    "tags": []
   },
   "outputs": [
    {
     "data": {
      "text/plain": [
       "LogisticRegression()"
      ]
     },
     "execution_count": 27,
     "metadata": {},
     "output_type": "execute_result"
    }
   ],
   "source": [
    "log_reg = LogisticRegression()\n",
    "log_reg.fit(X_train, y_train)"
   ]
  },
  {
   "cell_type": "code",
   "execution_count": 28,
   "id": "67a4b6d8",
   "metadata": {
    "execution": {
     "iopub.execute_input": "2021-08-12T17:06:03.031812Z",
     "iopub.status.busy": "2021-08-12T17:06:03.030720Z",
     "iopub.status.idle": "2021-08-12T17:06:03.036699Z",
     "shell.execute_reply": "2021-08-12T17:06:03.037177Z",
     "shell.execute_reply.started": "2021-08-12T16:57:34.203552Z"
    },
    "papermill": {
     "duration": 0.053044,
     "end_time": "2021-08-12T17:06:03.037385",
     "exception": false,
     "start_time": "2021-08-12T17:06:02.984341",
     "status": "completed"
    },
    "tags": []
   },
   "outputs": [],
   "source": [
    "predictions = log_reg.predict(test.drop('PassengerId', axis = 1))"
   ]
  },
  {
   "cell_type": "code",
   "execution_count": 29,
   "id": "cff29859",
   "metadata": {
    "execution": {
     "iopub.execute_input": "2021-08-12T17:06:03.127103Z",
     "iopub.status.busy": "2021-08-12T17:06:03.126122Z",
     "iopub.status.idle": "2021-08-12T17:06:03.138002Z",
     "shell.execute_reply": "2021-08-12T17:06:03.138511Z",
     "shell.execute_reply.started": "2021-08-12T16:58:23.080998Z"
    },
    "papermill": {
     "duration": 0.056824,
     "end_time": "2021-08-12T17:06:03.138680",
     "exception": false,
     "start_time": "2021-08-12T17:06:03.081856",
     "status": "completed"
    },
    "tags": []
   },
   "outputs": [
    {
     "data": {
      "text/html": [
       "<div>\n",
       "<style scoped>\n",
       "    .dataframe tbody tr th:only-of-type {\n",
       "        vertical-align: middle;\n",
       "    }\n",
       "\n",
       "    .dataframe tbody tr th {\n",
       "        vertical-align: top;\n",
       "    }\n",
       "\n",
       "    .dataframe thead th {\n",
       "        text-align: right;\n",
       "    }\n",
       "</style>\n",
       "<table border=\"1\" class=\"dataframe\">\n",
       "  <thead>\n",
       "    <tr style=\"text-align: right;\">\n",
       "      <th></th>\n",
       "      <th>PassengerID</th>\n",
       "      <th>Survived</th>\n",
       "    </tr>\n",
       "  </thead>\n",
       "  <tbody>\n",
       "    <tr>\n",
       "      <th>0</th>\n",
       "      <td>892</td>\n",
       "      <td>0</td>\n",
       "    </tr>\n",
       "    <tr>\n",
       "      <th>1</th>\n",
       "      <td>893</td>\n",
       "      <td>0</td>\n",
       "    </tr>\n",
       "    <tr>\n",
       "      <th>2</th>\n",
       "      <td>894</td>\n",
       "      <td>0</td>\n",
       "    </tr>\n",
       "    <tr>\n",
       "      <th>3</th>\n",
       "      <td>895</td>\n",
       "      <td>0</td>\n",
       "    </tr>\n",
       "    <tr>\n",
       "      <th>4</th>\n",
       "      <td>896</td>\n",
       "      <td>1</td>\n",
       "    </tr>\n",
       "    <tr>\n",
       "      <th>...</th>\n",
       "      <td>...</td>\n",
       "      <td>...</td>\n",
       "    </tr>\n",
       "    <tr>\n",
       "      <th>413</th>\n",
       "      <td>1305</td>\n",
       "      <td>0</td>\n",
       "    </tr>\n",
       "    <tr>\n",
       "      <th>414</th>\n",
       "      <td>1306</td>\n",
       "      <td>1</td>\n",
       "    </tr>\n",
       "    <tr>\n",
       "      <th>415</th>\n",
       "      <td>1307</td>\n",
       "      <td>0</td>\n",
       "    </tr>\n",
       "    <tr>\n",
       "      <th>416</th>\n",
       "      <td>1308</td>\n",
       "      <td>0</td>\n",
       "    </tr>\n",
       "    <tr>\n",
       "      <th>417</th>\n",
       "      <td>1309</td>\n",
       "      <td>0</td>\n",
       "    </tr>\n",
       "  </tbody>\n",
       "</table>\n",
       "<p>418 rows × 2 columns</p>\n",
       "</div>"
      ],
      "text/plain": [
       "     PassengerID  Survived\n",
       "0            892         0\n",
       "1            893         0\n",
       "2            894         0\n",
       "3            895         0\n",
       "4            896         1\n",
       "..           ...       ...\n",
       "413         1305         0\n",
       "414         1306         1\n",
       "415         1307         0\n",
       "416         1308         0\n",
       "417         1309         0\n",
       "\n",
       "[418 rows x 2 columns]"
      ]
     },
     "execution_count": 29,
     "metadata": {},
     "output_type": "execute_result"
    }
   ],
   "source": [
    "Submission = pd.DataFrame({'PassengerID': test.PassengerId, 'Survived': predictions})\n",
    "Submission"
   ]
  },
  {
   "cell_type": "code",
   "execution_count": 30,
   "id": "af846187",
   "metadata": {
    "execution": {
     "iopub.execute_input": "2021-08-12T17:06:03.230112Z",
     "iopub.status.busy": "2021-08-12T17:06:03.229060Z",
     "iopub.status.idle": "2021-08-12T17:06:03.237236Z",
     "shell.execute_reply": "2021-08-12T17:06:03.237770Z",
     "shell.execute_reply.started": "2021-08-12T16:58:36.335117Z"
    },
    "papermill": {
     "duration": 0.057488,
     "end_time": "2021-08-12T17:06:03.237949",
     "exception": false,
     "start_time": "2021-08-12T17:06:03.180461",
     "status": "completed"
    },
    "tags": []
   },
   "outputs": [],
   "source": [
    "Submission.to_csv('submission.csv', index=False)"
   ]
  }
 ],
 "metadata": {
  "kernelspec": {
   "display_name": "Python 3",
   "language": "python",
   "name": "python3"
  },
  "language_info": {
   "codemirror_mode": {
    "name": "ipython",
    "version": 3
   },
   "file_extension": ".py",
   "mimetype": "text/x-python",
   "name": "python",
   "nbconvert_exporter": "python",
   "pygments_lexer": "ipython3",
   "version": "3.7.10"
  },
  "papermill": {
   "default_parameters": {},
   "duration": 16.892041,
   "end_time": "2021-08-12T17:06:05.056590",
   "environment_variables": {},
   "exception": null,
   "input_path": "__notebook__.ipynb",
   "output_path": "__notebook__.ipynb",
   "parameters": {},
   "start_time": "2021-08-12T17:05:48.164549",
   "version": "2.3.3"
  }
 },
 "nbformat": 4,
 "nbformat_minor": 5
}
